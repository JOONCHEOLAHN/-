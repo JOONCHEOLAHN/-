{
 "cells": [
  {
   "cell_type": "code",
   "execution_count": 1,
   "id": "3b5ef609-e290-4002-a366-7b1ed702e028",
   "metadata": {},
   "outputs": [
    {
     "name": "stdout",
     "output_type": "stream",
     "text": [
      "Collecting kss\n",
      "  Downloading kss-3.3.1.1.tar.gz (42.4 MB)\n",
      "Collecting emoji\n",
      "  Downloading emoji-1.6.1.tar.gz (170 kB)\n",
      "Building wheels for collected packages: kss, emoji\n",
      "  Building wheel for kss (setup.py): started\n",
      "  Building wheel for kss (setup.py): finished with status 'done'\n",
      "  Created wheel for kss: filename=kss-3.3.1.1-py3-none-any.whl size=42449242 sha256=20861b28c3201cdc205c98e8bfbfadaac8955f1c4bf2498ac0f2ba8cd217d04d\n",
      "  Stored in directory: c:\\users\\718\\appdata\\local\\pip\\cache\\wheels\\02\\b1\\a4\\6c41b81f6f42a8301b50c37e70842e20d00510fd0cf7f816ea\n",
      "  Building wheel for emoji (setup.py): started\n",
      "  Building wheel for emoji (setup.py): finished with status 'done'\n",
      "  Created wheel for emoji: filename=emoji-1.6.1-py3-none-any.whl size=169315 sha256=1d574f66a1217537825cd87071b84664914e721d4bdeeda08d0b4bf8d97306f2\n",
      "  Stored in directory: c:\\users\\718\\appdata\\local\\pip\\cache\\wheels\\04\\29\\50\\1e7189f03d2cf139e469863d54a1d3eabeb10c92c84e51f8a1\n",
      "Successfully built kss emoji\n",
      "Installing collected packages: emoji, kss\n",
      "Successfully installed emoji-1.6.1 kss-3.3.1.1\n"
     ]
    },
    {
     "name": "stderr",
     "output_type": "stream",
     "text": [
      "WARNING: You are using pip version 21.2.4; however, version 21.3.1 is available.\n",
      "You should consider upgrading via the 'c:\\ai\\pythonproject\\venv\\scripts\\python.exe -m pip install --upgrade pip' command.\n"
     ]
    }
   ],
   "source": [
    "!pip install kss"
   ]
  },
  {
   "cell_type": "code",
   "execution_count": 5,
   "id": "8f0c7900-c5dc-4f68-8078-18d4f85f9cf2",
   "metadata": {},
   "outputs": [
    {
     "data": {
      "text/html": [
       "<div>\n",
       "<style scoped>\n",
       "    .dataframe tbody tr th:only-of-type {\n",
       "        vertical-align: middle;\n",
       "    }\n",
       "\n",
       "    .dataframe tbody tr th {\n",
       "        vertical-align: top;\n",
       "    }\n",
       "\n",
       "    .dataframe thead th {\n",
       "        text-align: right;\n",
       "    }\n",
       "</style>\n",
       "<table border=\"1\" class=\"dataframe\">\n",
       "  <thead>\n",
       "    <tr style=\"text-align: right;\">\n",
       "      <th></th>\n",
       "      <th>Unnamed: 0</th>\n",
       "      <th>MBTI</th>\n",
       "      <th>text</th>\n",
       "    </tr>\n",
       "  </thead>\n",
       "  <tbody>\n",
       "    <tr>\n",
       "      <th>0</th>\n",
       "      <td>0</td>\n",
       "      <td>infp</td>\n",
       "      <td>우울 일기. 회사에서 돈과 관련된 대형 실수를 저질렀다...금액은 크지 않지만 누군...</td>\n",
       "    </tr>\n",
       "    <tr>\n",
       "      <th>1</th>\n",
       "      <td>1</td>\n",
       "      <td>infp</td>\n",
       "      <td>엠헬에서 만난 귀인께 드리는 글. 조언과 저의 조언 느낀점이에요저에게는 귀인이신 분...</td>\n",
       "    </tr>\n",
       "    <tr>\n",
       "      <th>2</th>\n",
       "      <td>2</td>\n",
       "      <td>infp</td>\n",
       "      <td>나만의 미라클 모닝. 저한테 미라클 모닝은 사실이렇게 무사히 일어나서 지각 없이 출...</td>\n",
       "    </tr>\n",
       "    <tr>\n",
       "      <th>3</th>\n",
       "      <td>3</td>\n",
       "      <td>infp</td>\n",
       "      <td>오늘 하루도 감사한 마음으로. 하고 싶은 일을 하는데도해야 할 일처럼 느껴질 때 오...</td>\n",
       "    </tr>\n",
       "    <tr>\n",
       "      <th>4</th>\n",
       "      <td>4</td>\n",
       "      <td>infp</td>\n",
       "      <td>Te를 잘 쓸 수 있었다. (어제 쓴 글). 오늘 하루 동안만큼은 잘 쓸 수 있었다...</td>\n",
       "    </tr>\n",
       "    <tr>\n",
       "      <th>...</th>\n",
       "      <td>...</td>\n",
       "      <td>...</td>\n",
       "      <td>...</td>\n",
       "    </tr>\n",
       "    <tr>\n",
       "      <th>16154</th>\n",
       "      <td>16154</td>\n",
       "      <td>enfj</td>\n",
       "      <td>교생이 끝나가는 시점에서(수업실연은 너무 힘들어). 제가 학창시절 선생님은 그냥 권...</td>\n",
       "    </tr>\n",
       "    <tr>\n",
       "      <th>16155</th>\n",
       "      <td>16155</td>\n",
       "      <td>enfj</td>\n",
       "      <td>뮤지컬 좋아하시는분?✋(그레이트 코멧 후기 뒷북). 어제 토요일 서울 유니버셜아트센...</td>\n",
       "    </tr>\n",
       "    <tr>\n",
       "      <th>16156</th>\n",
       "      <td>16156</td>\n",
       "      <td>enfj</td>\n",
       "      <td>나와 사랑하는 사람을 지키기 위해(가다실9가 접종1차). 조세호씨가 다이어트를 하시...</td>\n",
       "    </tr>\n",
       "    <tr>\n",
       "      <th>16157</th>\n",
       "      <td>16157</td>\n",
       "      <td>enfj</td>\n",
       "      <td>오랜만입니다 여러분✋ (인류애 밖에 없는 유형이 🐶에게 던지는 요즘). 코로나 시작...</td>\n",
       "    </tr>\n",
       "    <tr>\n",
       "      <th>16158</th>\n",
       "      <td>16158</td>\n",
       "      <td>enfj</td>\n",
       "      <td>7/3. 73</td>\n",
       "    </tr>\n",
       "  </tbody>\n",
       "</table>\n",
       "<p>16159 rows × 3 columns</p>\n",
       "</div>"
      ],
      "text/plain": [
       "       Unnamed: 0  MBTI                                               text\n",
       "0               0  infp  우울 일기. 회사에서 돈과 관련된 대형 실수를 저질렀다...금액은 크지 않지만 누군...\n",
       "1               1  infp  엠헬에서 만난 귀인께 드리는 글. 조언과 저의 조언 느낀점이에요저에게는 귀인이신 분...\n",
       "2               2  infp  나만의 미라클 모닝. 저한테 미라클 모닝은 사실이렇게 무사히 일어나서 지각 없이 출...\n",
       "3               3  infp  오늘 하루도 감사한 마음으로. 하고 싶은 일을 하는데도해야 할 일처럼 느껴질 때 오...\n",
       "4               4  infp  Te를 잘 쓸 수 있었다. (어제 쓴 글). 오늘 하루 동안만큼은 잘 쓸 수 있었다...\n",
       "...           ...   ...                                                ...\n",
       "16154       16154  enfj  교생이 끝나가는 시점에서(수업실연은 너무 힘들어). 제가 학창시절 선생님은 그냥 권...\n",
       "16155       16155  enfj  뮤지컬 좋아하시는분?✋(그레이트 코멧 후기 뒷북). 어제 토요일 서울 유니버셜아트센...\n",
       "16156       16156  enfj  나와 사랑하는 사람을 지키기 위해(가다실9가 접종1차). 조세호씨가 다이어트를 하시...\n",
       "16157       16157  enfj  오랜만입니다 여러분✋ (인류애 밖에 없는 유형이 🐶에게 던지는 요즘). 코로나 시작...\n",
       "16158       16158  enfj                                            7/3. 73\n",
       "\n",
       "[16159 rows x 3 columns]"
      ]
     },
     "execution_count": 5,
     "metadata": {},
     "output_type": "execute_result"
    }
   ],
   "source": [
    "import pandas as pd\n",
    "\n",
    "df = pd.read_csv('./datasets/MBTI_fin.csv')\n",
    "df"
   ]
  },
  {
   "cell_type": "code",
   "execution_count": 6,
   "id": "17221f8c-3d17-4a04-950f-51686c73a271",
   "metadata": {},
   "outputs": [
    {
     "name": "stdout",
     "output_type": "stream",
     "text": [
      "['우울 일기. 회사에서 돈과 관련된 대형 실수를 저질렀다...', '금액은 크지 않지만 누군가에게 피해를 입힐 수 있다는 게 두렵게 다가왔다...', '병신 같다', '진짜... 하아아아아...']\n"
     ]
    }
   ],
   "source": [
    "import kss\n",
    "\n",
    "text = df['text'][0]\n",
    "print(kss.split_sentences(text))"
   ]
  },
  {
   "cell_type": "code",
   "execution_count": null,
   "id": "3034cfee-d347-406e-9f23-9493fa03cd53",
   "metadata": {},
   "outputs": [],
   "source": []
  },
  {
   "cell_type": "code",
   "execution_count": null,
   "id": "893a0135-ad1e-4615-bebd-598c44e56168",
   "metadata": {},
   "outputs": [],
   "source": []
  },
  {
   "cell_type": "code",
   "execution_count": null,
   "id": "6436093a-5189-49c9-b0f8-b7cf3b2377b2",
   "metadata": {},
   "outputs": [],
   "source": []
  },
  {
   "cell_type": "code",
   "execution_count": null,
   "id": "6275cf99-3b44-4f97-83b9-b141ab86cef9",
   "metadata": {},
   "outputs": [],
   "source": []
  },
  {
   "cell_type": "code",
   "execution_count": null,
   "id": "577540ef-dc80-4809-b683-6a37d4b66846",
   "metadata": {},
   "outputs": [],
   "source": []
  },
  {
   "cell_type": "code",
   "execution_count": null,
   "id": "28a00153-fdbd-4592-bfa7-9097062df26c",
   "metadata": {},
   "outputs": [],
   "source": []
  },
  {
   "cell_type": "code",
   "execution_count": null,
   "id": "2ca1feed-e966-4975-9bd6-06f886c3e5db",
   "metadata": {},
   "outputs": [],
   "source": []
  }
 ],
 "metadata": {
  "kernelspec": {
   "display_name": "Python 3 (ipykernel)",
   "language": "python",
   "name": "python3"
  },
  "language_info": {
   "codemirror_mode": {
    "name": "ipython",
    "version": 3
   },
   "file_extension": ".py",
   "mimetype": "text/x-python",
   "name": "python",
   "nbconvert_exporter": "python",
   "pygments_lexer": "ipython3",
   "version": "3.8.8"
  }
 },
 "nbformat": 4,
 "nbformat_minor": 5
}
