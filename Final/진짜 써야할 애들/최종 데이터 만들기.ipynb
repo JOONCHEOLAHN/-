{
 "cells": [
  {
   "cell_type": "markdown",
   "id": "309a6ecf-2f0f-4f6c-8e6a-316266ed4f8d",
   "metadata": {},
   "source": [
    "# mbti_data 만들기"
   ]
  },
  {
   "cell_type": "code",
   "execution_count": 1,
   "id": "cfe91628-1018-47df-8f32-fcc56cc7dbac",
   "metadata": {},
   "outputs": [],
   "source": [
    "import pandas as pd"
   ]
  },
  {
   "cell_type": "code",
   "execution_count": 2,
   "id": "a8c1fa7c-eef7-4067-985c-36e440ab826b",
   "metadata": {},
   "outputs": [],
   "source": [
    "df = pd.read_csv('../datasets/긍정일기.csv')  \n",
    "df1 = pd.read_csv('../datasets/신변잡기_2.csv')\n",
    "df2 = pd.read_csv('../datasets/유형감별.csv')\n",
    "df3 = pd.read_csv('../datasets/url_set.csv')  "
   ]
  },
  {
   "cell_type": "code",
   "execution_count": 3,
   "id": "123e7683-f4d8-4430-9eee-ea791c9d4163",
   "metadata": {},
   "outputs": [
    {
     "data": {
      "text/html": [
       "<div>\n",
       "<style scoped>\n",
       "    .dataframe tbody tr th:only-of-type {\n",
       "        vertical-align: middle;\n",
       "    }\n",
       "\n",
       "    .dataframe tbody tr th {\n",
       "        vertical-align: top;\n",
       "    }\n",
       "\n",
       "    .dataframe thead th {\n",
       "        text-align: right;\n",
       "    }\n",
       "</style>\n",
       "<table border=\"1\" class=\"dataframe\">\n",
       "  <thead>\n",
       "    <tr style=\"text-align: right;\">\n",
       "      <th></th>\n",
       "      <th>seq</th>\n",
       "      <th>title</th>\n",
       "      <th>writer</th>\n",
       "      <th>content</th>\n",
       "    </tr>\n",
       "  </thead>\n",
       "  <tbody>\n",
       "    <tr>\n",
       "      <th>0</th>\n",
       "      <td>1</td>\n",
       "      <td>일기) 주려던 건 아니었는데</td>\n",
       "      <td>신촌사과암살자enfj</td>\n",
       "      <td>여자친구도 사귀는데... 한 번도 받아보지 못한 사람이 되게 하기는 너무 너무 싫었...</td>\n",
       "    </tr>\n",
       "    <tr>\n",
       "      <th>1</th>\n",
       "      <td>2</td>\n",
       "      <td>붕어빵 ㅋㅋ</td>\n",
       "      <td>강신12</td>\n",
       "      <td>이제 붕어빵의 계절이 돌아왔네요 요즘 날씨가 정말 추워지더라고요 어제도 진짜 깜짝 ...</td>\n",
       "    </tr>\n",
       "    <tr>\n",
       "      <th>2</th>\n",
       "      <td>3</td>\n",
       "      <td>빼빼로 먹는날🤎</td>\n",
       "      <td>소라게 ENFJ</td>\n",
       "      <td>오늘은 빼빼로데이네요! 11월 11일!저는 11이라는 숫자가 모양이 이뻐서 좋아해요...</td>\n",
       "    </tr>\n",
       "    <tr>\n",
       "      <th>3</th>\n",
       "      <td>4</td>\n",
       "      <td>아침으로 먹을 맘모스빵을 사왔어요.😋</td>\n",
       "      <td>예사소년enfp</td>\n",
       "      <td>맘모스가 일찍부터 멸종된 이유가 있다.킥킥.새벽부터 부리나케 나가서 맘모스빵을 사왔...</td>\n",
       "    </tr>\n",
       "    <tr>\n",
       "      <th>4</th>\n",
       "      <td>5</td>\n",
       "      <td>미라클 모닝 8일차.</td>\n",
       "      <td>RDFS INTJ</td>\n",
       "      <td>좋은 아침입니당사실 요즘 미라클 모닝이 익숙해진 탓인지 감회가 그리 새롭지가 않아요...</td>\n",
       "    </tr>\n",
       "  </tbody>\n",
       "</table>\n",
       "</div>"
      ],
      "text/plain": [
       "   seq                 title       writer  \\\n",
       "0    1       일기) 주려던 건 아니었는데  신촌사과암살자enfj   \n",
       "1    2                붕어빵 ㅋㅋ         강신12   \n",
       "2    3              빼빼로 먹는날🤎     소라게 ENFJ   \n",
       "3    4  아침으로 먹을 맘모스빵을 사왔어요.😋     예사소년enfp   \n",
       "4    5           미라클 모닝 8일차.    RDFS INTJ   \n",
       "\n",
       "                                             content  \n",
       "0  여자친구도 사귀는데... 한 번도 받아보지 못한 사람이 되게 하기는 너무 너무 싫었...  \n",
       "1  이제 붕어빵의 계절이 돌아왔네요 요즘 날씨가 정말 추워지더라고요 어제도 진짜 깜짝 ...  \n",
       "2  오늘은 빼빼로데이네요! 11월 11일!저는 11이라는 숫자가 모양이 이뻐서 좋아해요...  \n",
       "3  맘모스가 일찍부터 멸종된 이유가 있다.킥킥.새벽부터 부리나케 나가서 맘모스빵을 사왔...  \n",
       "4  좋은 아침입니당사실 요즘 미라클 모닝이 익숙해진 탓인지 감회가 그리 새롭지가 않아요...  "
      ]
     },
     "execution_count": 3,
     "metadata": {},
     "output_type": "execute_result"
    }
   ],
   "source": [
    "df.head()"
   ]
  },
  {
   "cell_type": "code",
   "execution_count": 4,
   "id": "501fcc8f-912d-4a9d-b528-71560d11eca5",
   "metadata": {},
   "outputs": [],
   "source": [
    "df_pos = df.copy()     # 5847    # 5724 \n",
    "df_catch = df1.copy()  # 9607   # 9239 \n",
    "df_type = df2.copy()    #  5444   # 5210 \n",
    "df_url = df3.copy()    # 11812    # 11394"
   ]
  },
  {
   "cell_type": "code",
   "execution_count": 5,
   "id": "4db94b9b-09c3-465f-b3b0-06ca13b350bb",
   "metadata": {},
   "outputs": [
    {
     "name": "stdout",
     "output_type": "stream",
     "text": [
      "<class 'pandas.core.frame.DataFrame'>\n",
      "RangeIndex: 5847 entries, 0 to 5846\n",
      "Data columns (total 4 columns):\n",
      " #   Column   Non-Null Count  Dtype \n",
      "---  ------   --------------  ----- \n",
      " 0   seq      5847 non-null   int64 \n",
      " 1   title    5847 non-null   object\n",
      " 2   writer   5847 non-null   object\n",
      " 3   content  5724 non-null   object\n",
      "dtypes: int64(1), object(3)\n",
      "memory usage: 182.8+ KB\n"
     ]
    }
   ],
   "source": [
    "df_pos.info()"
   ]
  },
  {
   "cell_type": "code",
   "execution_count": 6,
   "id": "f6551b6a-546f-41a3-81d6-8130fa40be2e",
   "metadata": {},
   "outputs": [
    {
     "name": "stdout",
     "output_type": "stream",
     "text": [
      "<class 'pandas.core.frame.DataFrame'>\n",
      "RangeIndex: 11812 entries, 0 to 11811\n",
      "Data columns (total 4 columns):\n",
      " #   Column   Non-Null Count  Dtype \n",
      "---  ------   --------------  ----- \n",
      " 0   seq      11812 non-null  int64 \n",
      " 1   title    11812 non-null  object\n",
      " 2   writer   11812 non-null  object\n",
      " 3   content  11394 non-null  object\n",
      "dtypes: int64(1), object(3)\n",
      "memory usage: 369.2+ KB\n"
     ]
    }
   ],
   "source": [
    "df_url.info()"
   ]
  },
  {
   "cell_type": "code",
   "execution_count": 7,
   "id": "d39be034-374e-4771-b5d5-9fc7a1d5c94d",
   "metadata": {},
   "outputs": [],
   "source": [
    "df_catch.drop(['Unnamed: 0'], axis=1, inplace=True)"
   ]
  },
  {
   "cell_type": "markdown",
   "id": "63b99838-f67d-4418-9ed4-7adb2a52cdc4",
   "metadata": {},
   "source": [
    "### content nan 제거"
   ]
  },
  {
   "cell_type": "code",
   "execution_count": 8,
   "id": "9f4120d2-2ac6-4377-b251-7feb0c001617",
   "metadata": {},
   "outputs": [],
   "source": [
    "df_pos = df_pos .dropna(axis=0)"
   ]
  },
  {
   "cell_type": "code",
   "execution_count": 9,
   "id": "5d17db36-9c47-410b-9f46-84deeda6b8b7",
   "metadata": {},
   "outputs": [],
   "source": [
    "df_catch = df_catch .dropna(axis=0)"
   ]
  },
  {
   "cell_type": "code",
   "execution_count": 10,
   "id": "d1685527-fffc-4596-9c0c-14c6849ce35d",
   "metadata": {},
   "outputs": [],
   "source": [
    "df_type  = df_type .dropna(axis=0)"
   ]
  },
  {
   "cell_type": "code",
   "execution_count": 11,
   "id": "2198ad54-7dd5-4dae-9251-ab8ba1892c3d",
   "metadata": {},
   "outputs": [],
   "source": [
    "df_url = df_url.dropna(axis=0)"
   ]
  },
  {
   "cell_type": "code",
   "execution_count": 12,
   "id": "bf20dbcf-d608-4500-a3ee-481dab7c920f",
   "metadata": {},
   "outputs": [
    {
     "name": "stdout",
     "output_type": "stream",
     "text": [
      "<class 'pandas.core.frame.DataFrame'>\n",
      "Int64Index: 5724 entries, 0 to 5846\n",
      "Data columns (total 4 columns):\n",
      " #   Column   Non-Null Count  Dtype \n",
      "---  ------   --------------  ----- \n",
      " 0   seq      5724 non-null   int64 \n",
      " 1   title    5724 non-null   object\n",
      " 2   writer   5724 non-null   object\n",
      " 3   content  5724 non-null   object\n",
      "dtypes: int64(1), object(3)\n",
      "memory usage: 223.6+ KB\n"
     ]
    }
   ],
   "source": [
    "df_pos.info()"
   ]
  },
  {
   "cell_type": "code",
   "execution_count": 13,
   "id": "7bd7edc4-c9dd-4e85-95d1-44d1614ab1c2",
   "metadata": {},
   "outputs": [
    {
     "name": "stdout",
     "output_type": "stream",
     "text": [
      "<class 'pandas.core.frame.DataFrame'>\n",
      "Int64Index: 9239 entries, 0 to 9606\n",
      "Data columns (total 4 columns):\n",
      " #   Column   Non-Null Count  Dtype \n",
      "---  ------   --------------  ----- \n",
      " 0   seq      9239 non-null   int64 \n",
      " 1   title    9239 non-null   object\n",
      " 2   writer   9239 non-null   object\n",
      " 3   content  9239 non-null   object\n",
      "dtypes: int64(1), object(3)\n",
      "memory usage: 360.9+ KB\n"
     ]
    }
   ],
   "source": [
    "df_catch.info()"
   ]
  },
  {
   "cell_type": "code",
   "execution_count": 14,
   "id": "f5ae1106-9604-436b-9478-a0f6f19c966d",
   "metadata": {},
   "outputs": [
    {
     "name": "stdout",
     "output_type": "stream",
     "text": [
      "<class 'pandas.core.frame.DataFrame'>\n",
      "Int64Index: 5210 entries, 0 to 5425\n",
      "Data columns (total 4 columns):\n",
      " #   Column   Non-Null Count  Dtype \n",
      "---  ------   --------------  ----- \n",
      " 0   seq      5210 non-null   int64 \n",
      " 1   title    5210 non-null   object\n",
      " 2   writer   5210 non-null   object\n",
      " 3   content  5210 non-null   object\n",
      "dtypes: int64(1), object(3)\n",
      "memory usage: 203.5+ KB\n"
     ]
    }
   ],
   "source": [
    "df_type.info()"
   ]
  },
  {
   "cell_type": "code",
   "execution_count": 15,
   "id": "aa2b80ac-ef43-4140-8239-2609a7ed9bfb",
   "metadata": {},
   "outputs": [
    {
     "name": "stdout",
     "output_type": "stream",
     "text": [
      "<class 'pandas.core.frame.DataFrame'>\n",
      "Int64Index: 11394 entries, 0 to 11809\n",
      "Data columns (total 4 columns):\n",
      " #   Column   Non-Null Count  Dtype \n",
      "---  ------   --------------  ----- \n",
      " 0   seq      11394 non-null  int64 \n",
      " 1   title    11394 non-null  object\n",
      " 2   writer   11394 non-null  object\n",
      " 3   content  11394 non-null  object\n",
      "dtypes: int64(1), object(3)\n",
      "memory usage: 445.1+ KB\n"
     ]
    }
   ],
   "source": [
    "df_url.info()"
   ]
  },
  {
   "cell_type": "markdown",
   "id": "5923c3f6-dac4-41f2-910f-c8d1ba99e584",
   "metadata": {},
   "source": [
    "---"
   ]
  },
  {
   "cell_type": "markdown",
   "id": "1c798510-5130-4726-b785-2410c9429150",
   "metadata": {},
   "source": [
    "### data 4개 concat"
   ]
  },
  {
   "cell_type": "code",
   "execution_count": 16,
   "id": "44ed759d-d8e7-40c2-9b04-930880f87704",
   "metadata": {},
   "outputs": [
    {
     "name": "stdout",
     "output_type": "stream",
     "text": [
      "<class 'pandas.core.frame.DataFrame'>\n",
      "Int64Index: 31567 entries, 0 to 11809\n",
      "Data columns (total 4 columns):\n",
      " #   Column   Non-Null Count  Dtype \n",
      "---  ------   --------------  ----- \n",
      " 0   seq      31567 non-null  int64 \n",
      " 1   title    31567 non-null  object\n",
      " 2   writer   31567 non-null  object\n",
      " 3   content  31567 non-null  object\n",
      "dtypes: int64(1), object(3)\n",
      "memory usage: 1.2+ MB\n",
      "None\n"
     ]
    }
   ],
   "source": [
    "result = pd.concat([df_pos,df_catch, df_type, df_url]) # 32710   # 31567\n",
    "print(result.info())"
   ]
  },
  {
   "cell_type": "markdown",
   "id": "ea32b1a0-6df0-414c-8886-fed12f15dc7e",
   "metadata": {},
   "source": [
    "### csv 저장 후 mbti_data"
   ]
  },
  {
   "cell_type": "code",
   "execution_count": 18,
   "id": "82282e04-a699-46a1-9237-8e109742583b",
   "metadata": {},
   "outputs": [
    {
     "data": {
      "text/html": [
       "<div>\n",
       "<style scoped>\n",
       "    .dataframe tbody tr th:only-of-type {\n",
       "        vertical-align: middle;\n",
       "    }\n",
       "\n",
       "    .dataframe tbody tr th {\n",
       "        vertical-align: top;\n",
       "    }\n",
       "\n",
       "    .dataframe thead th {\n",
       "        text-align: right;\n",
       "    }\n",
       "</style>\n",
       "<table border=\"1\" class=\"dataframe\">\n",
       "  <thead>\n",
       "    <tr style=\"text-align: right;\">\n",
       "      <th></th>\n",
       "      <th>seq</th>\n",
       "      <th>title</th>\n",
       "      <th>writer</th>\n",
       "      <th>content</th>\n",
       "    </tr>\n",
       "  </thead>\n",
       "  <tbody>\n",
       "    <tr>\n",
       "      <th>0</th>\n",
       "      <td>1</td>\n",
       "      <td>일기) 주려던 건 아니었는데</td>\n",
       "      <td>신촌사과암살자enfj</td>\n",
       "      <td>여자친구도 사귀는데... 한 번도 받아보지 못한 사람이 되게 하기는 너무 너무 싫었...</td>\n",
       "    </tr>\n",
       "    <tr>\n",
       "      <th>1</th>\n",
       "      <td>2</td>\n",
       "      <td>붕어빵 ㅋㅋ</td>\n",
       "      <td>강신12</td>\n",
       "      <td>이제 붕어빵의 계절이 돌아왔네요 요즘 날씨가 정말 추워지더라고요 어제도 진짜 깜짝 ...</td>\n",
       "    </tr>\n",
       "    <tr>\n",
       "      <th>2</th>\n",
       "      <td>3</td>\n",
       "      <td>빼빼로 먹는날🤎</td>\n",
       "      <td>소라게 ENFJ</td>\n",
       "      <td>오늘은 빼빼로데이네요! 11월 11일!저는 11이라는 숫자가 모양이 이뻐서 좋아해요...</td>\n",
       "    </tr>\n",
       "    <tr>\n",
       "      <th>3</th>\n",
       "      <td>4</td>\n",
       "      <td>아침으로 먹을 맘모스빵을 사왔어요.😋</td>\n",
       "      <td>예사소년enfp</td>\n",
       "      <td>맘모스가 일찍부터 멸종된 이유가 있다.킥킥.새벽부터 부리나케 나가서 맘모스빵을 사왔...</td>\n",
       "    </tr>\n",
       "    <tr>\n",
       "      <th>4</th>\n",
       "      <td>5</td>\n",
       "      <td>미라클 모닝 8일차.</td>\n",
       "      <td>RDFS INTJ</td>\n",
       "      <td>좋은 아침입니당사실 요즘 미라클 모닝이 익숙해진 탓인지 감회가 그리 새롭지가 않아요...</td>\n",
       "    </tr>\n",
       "  </tbody>\n",
       "</table>\n",
       "</div>"
      ],
      "text/plain": [
       "   seq                 title       writer  \\\n",
       "0    1       일기) 주려던 건 아니었는데  신촌사과암살자enfj   \n",
       "1    2                붕어빵 ㅋㅋ         강신12   \n",
       "2    3              빼빼로 먹는날🤎     소라게 ENFJ   \n",
       "3    4  아침으로 먹을 맘모스빵을 사왔어요.😋     예사소년enfp   \n",
       "4    5           미라클 모닝 8일차.    RDFS INTJ   \n",
       "\n",
       "                                             content  \n",
       "0  여자친구도 사귀는데... 한 번도 받아보지 못한 사람이 되게 하기는 너무 너무 싫었...  \n",
       "1  이제 붕어빵의 계절이 돌아왔네요 요즘 날씨가 정말 추워지더라고요 어제도 진짜 깜짝 ...  \n",
       "2  오늘은 빼빼로데이네요! 11월 11일!저는 11이라는 숫자가 모양이 이뻐서 좋아해요...  \n",
       "3  맘모스가 일찍부터 멸종된 이유가 있다.킥킥.새벽부터 부리나케 나가서 맘모스빵을 사왔...  \n",
       "4  좋은 아침입니당사실 요즘 미라클 모닝이 익숙해진 탓인지 감회가 그리 새롭지가 않아요...  "
      ]
     },
     "execution_count": 18,
     "metadata": {},
     "output_type": "execute_result"
    }
   ],
   "source": [
    "result.to_csv(\"../datasets/mbti_data.csv\", index=False)\n",
    "mbti_data = pd.read_csv('../datasets/mbti_data.csv')\n",
    "mbti_data.head()"
   ]
  },
  {
   "cell_type": "code",
   "execution_count": null,
   "id": "db7d7aef-2f9b-4580-b56a-d0a93e26c9be",
   "metadata": {},
   "outputs": [],
   "source": [
    "mbti_data.tail()"
   ]
  },
  {
   "cell_type": "code",
   "execution_count": null,
   "id": "e280cceb-0ee3-4cbb-8cbb-19cad44efc0f",
   "metadata": {},
   "outputs": [],
   "source": [
    "mbti_data.info()"
   ]
  },
  {
   "cell_type": "markdown",
   "id": "8d362286-e69c-426d-a3c9-3d594f3497c5",
   "metadata": {},
   "source": [
    "### content 중복 제거"
   ]
  },
  {
   "cell_type": "code",
   "execution_count": null,
   "id": "e5121994-0e40-44d1-9aa4-1a4468b4fb91",
   "metadata": {},
   "outputs": [],
   "source": [
    "mbti_data['content'].nunique()"
   ]
  },
  {
   "cell_type": "code",
   "execution_count": 19,
   "id": "69e928d4-c0cc-4b33-b931-b6f2b704c53b",
   "metadata": {},
   "outputs": [],
   "source": [
    "mbti_data = mbti_data.drop_duplicates(['content'], keep='first', ignore_index=True)"
   ]
  },
  {
   "cell_type": "code",
   "execution_count": null,
   "id": "73960b55-556c-4ceb-98f9-13480e384d3e",
   "metadata": {},
   "outputs": [],
   "source": [
    "mbti_data.info()"
   ]
  },
  {
   "cell_type": "code",
   "execution_count": null,
   "id": "18895b58-3dc5-42f3-bced-6b3e64461db9",
   "metadata": {},
   "outputs": [],
   "source": [
    "mbti_data.tail()"
   ]
  },
  {
   "cell_type": "markdown",
   "id": "487aad60-71fe-4a30-b85a-f0413ccc9dca",
   "metadata": {},
   "source": [
    "### 중복 제거 후 다시 csv 저장 mbti_data"
   ]
  },
  {
   "cell_type": "code",
   "execution_count": 20,
   "id": "f84d810d-ab46-4981-be6c-52adc024d79a",
   "metadata": {},
   "outputs": [
    {
     "data": {
      "text/html": [
       "<div>\n",
       "<style scoped>\n",
       "    .dataframe tbody tr th:only-of-type {\n",
       "        vertical-align: middle;\n",
       "    }\n",
       "\n",
       "    .dataframe tbody tr th {\n",
       "        vertical-align: top;\n",
       "    }\n",
       "\n",
       "    .dataframe thead th {\n",
       "        text-align: right;\n",
       "    }\n",
       "</style>\n",
       "<table border=\"1\" class=\"dataframe\">\n",
       "  <thead>\n",
       "    <tr style=\"text-align: right;\">\n",
       "      <th></th>\n",
       "      <th>seq</th>\n",
       "      <th>title</th>\n",
       "      <th>writer</th>\n",
       "      <th>content</th>\n",
       "    </tr>\n",
       "  </thead>\n",
       "  <tbody>\n",
       "    <tr>\n",
       "      <th>0</th>\n",
       "      <td>1</td>\n",
       "      <td>일기) 주려던 건 아니었는데</td>\n",
       "      <td>신촌사과암살자enfj</td>\n",
       "      <td>여자친구도 사귀는데... 한 번도 받아보지 못한 사람이 되게 하기는 너무 너무 싫었...</td>\n",
       "    </tr>\n",
       "    <tr>\n",
       "      <th>1</th>\n",
       "      <td>2</td>\n",
       "      <td>붕어빵 ㅋㅋ</td>\n",
       "      <td>강신12</td>\n",
       "      <td>이제 붕어빵의 계절이 돌아왔네요 요즘 날씨가 정말 추워지더라고요 어제도 진짜 깜짝 ...</td>\n",
       "    </tr>\n",
       "    <tr>\n",
       "      <th>2</th>\n",
       "      <td>3</td>\n",
       "      <td>빼빼로 먹는날🤎</td>\n",
       "      <td>소라게 ENFJ</td>\n",
       "      <td>오늘은 빼빼로데이네요! 11월 11일!저는 11이라는 숫자가 모양이 이뻐서 좋아해요...</td>\n",
       "    </tr>\n",
       "    <tr>\n",
       "      <th>3</th>\n",
       "      <td>4</td>\n",
       "      <td>아침으로 먹을 맘모스빵을 사왔어요.😋</td>\n",
       "      <td>예사소년enfp</td>\n",
       "      <td>맘모스가 일찍부터 멸종된 이유가 있다.킥킥.새벽부터 부리나케 나가서 맘모스빵을 사왔...</td>\n",
       "    </tr>\n",
       "    <tr>\n",
       "      <th>4</th>\n",
       "      <td>5</td>\n",
       "      <td>미라클 모닝 8일차.</td>\n",
       "      <td>RDFS INTJ</td>\n",
       "      <td>좋은 아침입니당사실 요즘 미라클 모닝이 익숙해진 탓인지 감회가 그리 새롭지가 않아요...</td>\n",
       "    </tr>\n",
       "  </tbody>\n",
       "</table>\n",
       "</div>"
      ],
      "text/plain": [
       "   seq                 title       writer  \\\n",
       "0    1       일기) 주려던 건 아니었는데  신촌사과암살자enfj   \n",
       "1    2                붕어빵 ㅋㅋ         강신12   \n",
       "2    3              빼빼로 먹는날🤎     소라게 ENFJ   \n",
       "3    4  아침으로 먹을 맘모스빵을 사왔어요.😋     예사소년enfp   \n",
       "4    5           미라클 모닝 8일차.    RDFS INTJ   \n",
       "\n",
       "                                             content  \n",
       "0  여자친구도 사귀는데... 한 번도 받아보지 못한 사람이 되게 하기는 너무 너무 싫었...  \n",
       "1  이제 붕어빵의 계절이 돌아왔네요 요즘 날씨가 정말 추워지더라고요 어제도 진짜 깜짝 ...  \n",
       "2  오늘은 빼빼로데이네요! 11월 11일!저는 11이라는 숫자가 모양이 이뻐서 좋아해요...  \n",
       "3  맘모스가 일찍부터 멸종된 이유가 있다.킥킥.새벽부터 부리나케 나가서 맘모스빵을 사왔...  \n",
       "4  좋은 아침입니당사실 요즘 미라클 모닝이 익숙해진 탓인지 감회가 그리 새롭지가 않아요...  "
      ]
     },
     "execution_count": 20,
     "metadata": {},
     "output_type": "execute_result"
    }
   ],
   "source": [
    "mbti_data.to_csv(\"../datasets/mbti_data.csv\", index=False)\n",
    "mbti_data = pd.read_csv('../datasets/mbti_data.csv')\n",
    "mbti_data.head()"
   ]
  },
  {
   "cell_type": "code",
   "execution_count": null,
   "id": "2c4a0d58-8f1c-4392-b1b6-9befe5ce93e5",
   "metadata": {},
   "outputs": [],
   "source": [
    "mbti_data.tail()"
   ]
  },
  {
   "cell_type": "markdown",
   "id": "df72151e-6dd5-4d30-9294-4df9a03f1b43",
   "metadata": {},
   "source": [
    "---"
   ]
  },
  {
   "cell_type": "code",
   "execution_count": 22,
   "id": "11a237bc-e93a-47de-8748-3fbdfd63cd3b",
   "metadata": {},
   "outputs": [],
   "source": [
    "df_copy = mbti_data.copy()"
   ]
  },
  {
   "cell_type": "code",
   "execution_count": null,
   "id": "2b1a337c-a746-42a9-aab4-c46d484be5e0",
   "metadata": {},
   "outputs": [],
   "source": [
    "df_copy.info()"
   ]
  },
  {
   "cell_type": "code",
   "execution_count": 23,
   "id": "fb306a5d-8eee-41de-a6fb-720e02a22f44",
   "metadata": {},
   "outputs": [],
   "source": [
    "df_copy['type'] = df_copy['writer']"
   ]
  },
  {
   "cell_type": "code",
   "execution_count": 28,
   "id": "abdf530d-2cf8-43a2-ad19-cdabd7ed4ee1",
   "metadata": {},
   "outputs": [],
   "source": [
    "df_copy['text'] = df_copy['title'] +\". \"+df_copy['content']"
   ]
  },
  {
   "cell_type": "code",
   "execution_count": 29,
   "id": "57c1d9ae-4f98-4023-983f-ce5a35e4c1a7",
   "metadata": {
    "tags": []
   },
   "outputs": [
    {
     "data": {
      "text/plain": [
       "0        일기) 주려던 건 아니었는데. 여자친구도 사귀는데... 한 번도 받아보지 못한 사람...\n",
       "1        붕어빵 ㅋㅋ. 이제 붕어빵의 계절이 돌아왔네요 요즘 날씨가 정말 추워지더라고요 어제...\n",
       "2        빼빼로 먹는날🤎. 오늘은 빼빼로데이네요! 11월 11일!저는 11이라는 숫자가 모양...\n",
       "3        아침으로 먹을 맘모스빵을 사왔어요.😋. 맘모스가 일찍부터 멸종된 이유가 있다.킥킥....\n",
       "4        미라클 모닝 8일차.. 좋은 아침입니당사실 요즘 미라클 모닝이 익숙해진 탓인지 감회...\n",
       "                               ...                        \n",
       "25704    빚에몰린 하우스푸어 깡통주택..힘겨운 주인들... 빚에몰린 하우스푸어 깡통주택..힘...\n",
       "25705    하나에의 Form K결과 (ENFP인데 T가높은 케이스). 창천님께 직접 받았구요F...\n",
       "25706    3초의 여유와 당연함?. 3초의 여유 엘리베이터를 탔을 때 닫기를 누르기 전 3초만...\n",
       "25707    롤모델의 장점을 실행하라_오바마처럼 연설하고 오프라처럼 대화하라. 두 사람은 공통적...\n",
       "25708    INTJ 비전을 제시하는 창의적 문제해결사. INTJ 비전을 제시하는 창의적 문제해...\n",
       "Name: text, Length: 25709, dtype: object"
      ]
     },
     "execution_count": 29,
     "metadata": {},
     "output_type": "execute_result"
    }
   ],
   "source": [
    "df_copy['text'] "
   ]
  },
  {
   "cell_type": "code",
   "execution_count": null,
   "id": "d9608d00-b34f-4a95-b4e0-5a6372d31cf4",
   "metadata": {},
   "outputs": [],
   "source": []
  },
  {
   "cell_type": "code",
   "execution_count": 30,
   "id": "d273add6-fe36-48b9-b826-f8b91dc84796",
   "metadata": {},
   "outputs": [],
   "source": [
    "df_copy.drop(['title', 'seq', 'content', 'writer'], axis=1, inplace=True)"
   ]
  },
  {
   "cell_type": "code",
   "execution_count": null,
   "id": "e273f215-e428-4862-86ce-dc3dca4c3677",
   "metadata": {},
   "outputs": [],
   "source": [
    "df_copy"
   ]
  },
  {
   "cell_type": "markdown",
   "id": "77faf316-b4b4-4131-8ff9-7dcfbc3ee2b6",
   "metadata": {},
   "source": [
    "### data최종본"
   ]
  },
  {
   "cell_type": "code",
   "execution_count": 31,
   "id": "6e534e96-f720-4b3f-a47d-e8d8aab726fb",
   "metadata": {},
   "outputs": [
    {
     "data": {
      "text/html": [
       "<div>\n",
       "<style scoped>\n",
       "    .dataframe tbody tr th:only-of-type {\n",
       "        vertical-align: middle;\n",
       "    }\n",
       "\n",
       "    .dataframe tbody tr th {\n",
       "        vertical-align: top;\n",
       "    }\n",
       "\n",
       "    .dataframe thead th {\n",
       "        text-align: right;\n",
       "    }\n",
       "</style>\n",
       "<table border=\"1\" class=\"dataframe\">\n",
       "  <thead>\n",
       "    <tr style=\"text-align: right;\">\n",
       "      <th></th>\n",
       "      <th>type</th>\n",
       "      <th>text</th>\n",
       "    </tr>\n",
       "  </thead>\n",
       "  <tbody>\n",
       "    <tr>\n",
       "      <th>0</th>\n",
       "      <td>신촌사과암살자enfj</td>\n",
       "      <td>일기) 주려던 건 아니었는데. 여자친구도 사귀는데... 한 번도 받아보지 못한 사람...</td>\n",
       "    </tr>\n",
       "    <tr>\n",
       "      <th>1</th>\n",
       "      <td>강신12</td>\n",
       "      <td>붕어빵 ㅋㅋ. 이제 붕어빵의 계절이 돌아왔네요 요즘 날씨가 정말 추워지더라고요 어제...</td>\n",
       "    </tr>\n",
       "    <tr>\n",
       "      <th>2</th>\n",
       "      <td>소라게 ENFJ</td>\n",
       "      <td>빼빼로 먹는날🤎. 오늘은 빼빼로데이네요! 11월 11일!저는 11이라는 숫자가 모양...</td>\n",
       "    </tr>\n",
       "    <tr>\n",
       "      <th>3</th>\n",
       "      <td>예사소년enfp</td>\n",
       "      <td>아침으로 먹을 맘모스빵을 사왔어요.😋. 맘모스가 일찍부터 멸종된 이유가 있다.킥킥....</td>\n",
       "    </tr>\n",
       "    <tr>\n",
       "      <th>4</th>\n",
       "      <td>RDFS INTJ</td>\n",
       "      <td>미라클 모닝 8일차.. 좋은 아침입니당사실 요즘 미라클 모닝이 익숙해진 탓인지 감회...</td>\n",
       "    </tr>\n",
       "  </tbody>\n",
       "</table>\n",
       "</div>"
      ],
      "text/plain": [
       "          type                                               text\n",
       "0  신촌사과암살자enfj  일기) 주려던 건 아니었는데. 여자친구도 사귀는데... 한 번도 받아보지 못한 사람...\n",
       "1         강신12  붕어빵 ㅋㅋ. 이제 붕어빵의 계절이 돌아왔네요 요즘 날씨가 정말 추워지더라고요 어제...\n",
       "2     소라게 ENFJ  빼빼로 먹는날🤎. 오늘은 빼빼로데이네요! 11월 11일!저는 11이라는 숫자가 모양...\n",
       "3     예사소년enfp  아침으로 먹을 맘모스빵을 사왔어요.😋. 맘모스가 일찍부터 멸종된 이유가 있다.킥킥....\n",
       "4    RDFS INTJ  미라클 모닝 8일차.. 좋은 아침입니당사실 요즘 미라클 모닝이 익숙해진 탓인지 감회..."
      ]
     },
     "execution_count": 31,
     "metadata": {},
     "output_type": "execute_result"
    }
   ],
   "source": [
    "df_copy.to_csv(\"../datasets/Final_MBTI_data.csv\", index=False)\n",
    "mbti_data = pd.read_csv('../datasets/Final_MBTI_data.csv')\n",
    "mbti_data.head()"
   ]
  }
 ],
 "metadata": {
  "kernelspec": {
   "display_name": "Python 3 (ipykernel)",
   "language": "python",
   "name": "python3"
  },
  "language_info": {
   "codemirror_mode": {
    "name": "ipython",
    "version": 3
   },
   "file_extension": ".py",
   "mimetype": "text/x-python",
   "name": "python",
   "nbconvert_exporter": "python",
   "pygments_lexer": "ipython3",
   "version": "3.8.8"
  }
 },
 "nbformat": 4,
 "nbformat_minor": 5
}
