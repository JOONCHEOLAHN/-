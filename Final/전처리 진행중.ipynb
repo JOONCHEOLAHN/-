{
 "cells": [
  {
   "cell_type": "markdown",
   "id": "2550f2ac-23b1-4a0a-ac62-ec18b9529b43",
   "metadata": {
    "tags": []
   },
   "source": [
    "# 전처리"
   ]
  },
  {
   "cell_type": "code",
   "execution_count": 1,
   "id": "d9d7f88e-1895-4e82-8d65-be528c4e6968",
   "metadata": {},
   "outputs": [
    {
     "data": {
      "text/html": [
       "<style>.container{width:100% !important;}</style>"
      ],
      "text/plain": [
       "<IPython.core.display.HTML object>"
      ]
     },
     "metadata": {},
     "output_type": "display_data"
    }
   ],
   "source": [
    "import pandas as pd\n",
    "\n",
    "#-------------------- 주피터 셀 넓이 조절 ---------------------\n",
    "from IPython.core.display import display, HTML\n",
    "display(HTML(\"<style>.container{width:100% !important;}</style>\"))\n",
    "pd.set_option('display.max_rows', 500)\n",
    "pd.set_option('display.max_columns', 500)\n",
    "pd.set_option('max_colwidth', None)"
   ]
  },
  {
   "cell_type": "code",
   "execution_count": 2,
   "id": "7af4f776-9372-4be1-a637-dd632525e388",
   "metadata": {},
   "outputs": [],
   "source": [
    "df = pd.read_csv('../datasets/final_mbti_data.csv')  "
   ]
  },
  {
   "cell_type": "code",
   "execution_count": 3,
   "id": "7ec184b9-7b61-4a9c-8eca-d10f164aefc8",
   "metadata": {},
   "outputs": [],
   "source": [
    "df_copy = df.copy()"
   ]
  },
  {
   "cell_type": "code",
   "execution_count": 4,
   "id": "d68b4d3a-b744-422d-b543-6f24e23f64dc",
   "metadata": {},
   "outputs": [
    {
     "data": {
      "text/html": [
       "<div>\n",
       "<style scoped>\n",
       "    .dataframe tbody tr th:only-of-type {\n",
       "        vertical-align: middle;\n",
       "    }\n",
       "\n",
       "    .dataframe tbody tr th {\n",
       "        vertical-align: top;\n",
       "    }\n",
       "\n",
       "    .dataframe thead th {\n",
       "        text-align: right;\n",
       "    }\n",
       "</style>\n",
       "<table border=\"1\" class=\"dataframe\">\n",
       "  <thead>\n",
       "    <tr style=\"text-align: right;\">\n",
       "      <th></th>\n",
       "      <th>type</th>\n",
       "      <th>text</th>\n",
       "    </tr>\n",
       "  </thead>\n",
       "  <tbody>\n",
       "    <tr>\n",
       "      <th>0</th>\n",
       "      <td>신촌사과암살자enfj</td>\n",
       "      <td>일기) 주려던 건 아니었는데.여자친구도 사귀는데... 한 번도 받아보지 못한 사람이 되게 하기는 너무 너무 싫었어요아무튼 좋아하니까 다행이고본인은 빼빼로 잘 안 먹어서 필요없구</td>\n",
       "    </tr>\n",
       "    <tr>\n",
       "      <th>1</th>\n",
       "      <td>강신12</td>\n",
       "      <td>붕어빵 ㅋㅋ.이제 붕어빵의 계절이 돌아왔네요 요즘 날씨가 정말 추워지더라고요 어제도 진짜 깜짝 놀랐어요 너무 추워서  근데 그래도 겨울에 좋은 점은 붕어빵을 먹을 수 있다는 거 그게 장점이라고 생각합니다 그리고 추운날 장판 켜놓고 따뜻하게 있는 것도 좋구요  오늘도 날씨 춥다고 하는데 다들 날씨 추우니까 감기 조심하시구요 따뜻하게 입으시구요 컨디션 조절 잘 하세요</td>\n",
       "    </tr>\n",
       "    <tr>\n",
       "      <th>2</th>\n",
       "      <td>소라게 ENFJ</td>\n",
       "      <td>빼빼로 먹는날🤎.오늘은 빼빼로데이네요! 11월 11일!저는 11이라는 숫자가 모양이 이뻐서 좋아해요암튼 오늘은 친구들이랑 빼빼로 교환을 하기로 했어요! 자그마치 13명.. 제가 엔프제인 이유를 알게 된 것 같달까요 오늘 하루 잘 보내세요!</td>\n",
       "    </tr>\n",
       "    <tr>\n",
       "      <th>3</th>\n",
       "      <td>예사소년enfp</td>\n",
       "      <td>아침으로 먹을 맘모스빵을 사왔어요.😋.맘모스가 일찍부터 멸종된 이유가 있다.킥킥.새벽부터 부리나케 나가서 맘모스빵을 사왔는데,여기 맘모스빵은 딱딱하지도 않고 무엇보다 크림이 부드럽고 딸기잼도 연해서 덜 달고 딱 좋아요.여러분들은 아침으로 무엇을 드실건가요?</td>\n",
       "    </tr>\n",
       "    <tr>\n",
       "      <th>4</th>\n",
       "      <td>RDFS INTJ</td>\n",
       "      <td>미라클 모닝 8일차..좋은 아침입니당사실 요즘 미라클 모닝이 익숙해진 탓인지 감회가 그리 새롭지가 않아요. 게다가 아침이면 카페에 가서 공부를 하곤 하는데, 운동하고 씻고 밥을 먹어도 카페가 문을 열 시간이 되지않아 아까운 시간을 보내고 있다고 생각해요.그래서 내일부터는 6시에 일어나볼까 생각합니다. 항상 45시간 자고 낮잠 1시간을 자는 루틴이었는데 그걸 한시간만 좀 땡겨볼까해요익숙한건 당연히 좋지만, 때로는 독이 될 수 있다는걸 다시 한번 깨닫는 경험이네요. 역시 뭐든 장점이 있으면 단점이 있겠죠.더해서 익숙함을 깨고자 1시간 당기는건 물론이고 카페 장소도 아예 다른 동네로 바꿔볼까 생각중입니다 저는 참 같은 환경에서 꾸준히하는게 정말 어려운 것 같아요. 그래도 해결방안을 찾으니 한결 나아지는 것 같습니다오늘도 다들 파이팅입니다!</td>\n",
       "    </tr>\n",
       "  </tbody>\n",
       "</table>\n",
       "</div>"
      ],
      "text/plain": [
       "          type  \\\n",
       "0  신촌사과암살자enfj   \n",
       "1         강신12   \n",
       "2     소라게 ENFJ   \n",
       "3     예사소년enfp   \n",
       "4    RDFS INTJ   \n",
       "\n",
       "                                                                                                                                                                                                                                                                                                                                                                                                                              text  \n",
       "0                                                                                                                                                                                                                                                                                                                               일기) 주려던 건 아니었는데.여자친구도 사귀는데... 한 번도 받아보지 못한 사람이 되게 하기는 너무 너무 싫었어요아무튼 좋아하니까 다행이고본인은 빼빼로 잘 안 먹어서 필요없구  \n",
       "1                                                                                                                                                                                                                     붕어빵 ㅋㅋ.이제 붕어빵의 계절이 돌아왔네요 요즘 날씨가 정말 추워지더라고요 어제도 진짜 깜짝 놀랐어요 너무 추워서  근데 그래도 겨울에 좋은 점은 붕어빵을 먹을 수 있다는 거 그게 장점이라고 생각합니다 그리고 추운날 장판 켜놓고 따뜻하게 있는 것도 좋구요  오늘도 날씨 춥다고 하는데 다들 날씨 추우니까 감기 조심하시구요 따뜻하게 입으시구요 컨디션 조절 잘 하세요  \n",
       "2                                                                                                                                                                                                                                                                                            빼빼로 먹는날🤎.오늘은 빼빼로데이네요! 11월 11일!저는 11이라는 숫자가 모양이 이뻐서 좋아해요암튼 오늘은 친구들이랑 빼빼로 교환을 하기로 했어요! 자그마치 13명.. 제가 엔프제인 이유를 알게 된 것 같달까요 오늘 하루 잘 보내세요!  \n",
       "3                                                                                                                                                                                                                                                                                  아침으로 먹을 맘모스빵을 사왔어요.😋.맘모스가 일찍부터 멸종된 이유가 있다.킥킥.새벽부터 부리나케 나가서 맘모스빵을 사왔는데,여기 맘모스빵은 딱딱하지도 않고 무엇보다 크림이 부드럽고 딸기잼도 연해서 덜 달고 딱 좋아요.여러분들은 아침으로 무엇을 드실건가요?  \n",
       "4  미라클 모닝 8일차..좋은 아침입니당사실 요즘 미라클 모닝이 익숙해진 탓인지 감회가 그리 새롭지가 않아요. 게다가 아침이면 카페에 가서 공부를 하곤 하는데, 운동하고 씻고 밥을 먹어도 카페가 문을 열 시간이 되지않아 아까운 시간을 보내고 있다고 생각해요.그래서 내일부터는 6시에 일어나볼까 생각합니다. 항상 45시간 자고 낮잠 1시간을 자는 루틴이었는데 그걸 한시간만 좀 땡겨볼까해요익숙한건 당연히 좋지만, 때로는 독이 될 수 있다는걸 다시 한번 깨닫는 경험이네요. 역시 뭐든 장점이 있으면 단점이 있겠죠.더해서 익숙함을 깨고자 1시간 당기는건 물론이고 카페 장소도 아예 다른 동네로 바꿔볼까 생각중입니다 저는 참 같은 환경에서 꾸준히하는게 정말 어려운 것 같아요. 그래도 해결방안을 찾으니 한결 나아지는 것 같습니다오늘도 다들 파이팅입니다!  "
      ]
     },
     "execution_count": 4,
     "metadata": {},
     "output_type": "execute_result"
    }
   ],
   "source": [
    "df_copy.head()"
   ]
  },
  {
   "cell_type": "code",
   "execution_count": 5,
   "id": "7554d9b7-3f31-4757-b613-3fb1a1a92a34",
   "metadata": {},
   "outputs": [
    {
     "name": "stdout",
     "output_type": "stream",
     "text": [
      "<class 'pandas.core.frame.DataFrame'>\n",
      "RangeIndex: 25709 entries, 0 to 25708\n",
      "Data columns (total 2 columns):\n",
      " #   Column  Non-Null Count  Dtype \n",
      "---  ------  --------------  ----- \n",
      " 0   type    25709 non-null  object\n",
      " 1   text    25709 non-null  object\n",
      "dtypes: object(2)\n",
      "memory usage: 401.8+ KB\n"
     ]
    }
   ],
   "source": [
    "df_copy.info()"
   ]
  },
  {
   "cell_type": "markdown",
   "id": "7bf71a6a-ab7b-42ff-a3f3-e7bd8783d19f",
   "metadata": {},
   "source": [
    "## 대문자 --> 소문자"
   ]
  },
  {
   "cell_type": "code",
   "execution_count": 6,
   "id": "2f03d37e-c9d7-4bec-8b63-96af179b8ca9",
   "metadata": {},
   "outputs": [],
   "source": [
    "df_copy['type'] = df_copy['type'].tolist()\n",
    "df_copy['type'] = df_copy['type'].str.lower()\n",
    "\n",
    "df_copy['text'] = df_copy['text'].tolist()\n",
    "df_copy['text'] = df_copy['text'].str.lower()"
   ]
  },
  {
   "cell_type": "markdown",
   "id": "dc60ae94-c57f-4e18-95c9-fdae7eb5a28b",
   "metadata": {},
   "source": [
    "## text url개수 확인 --> 1044"
   ]
  },
  {
   "cell_type": "code",
   "execution_count": 7,
   "id": "af32130e-f4d8-4146-af3f-ab3d09ad98a2",
   "metadata": {},
   "outputs": [
    {
     "data": {
      "text/plain": [
       "1044"
      ]
     },
     "execution_count": 7,
     "metadata": {},
     "output_type": "execute_result"
    }
   ],
   "source": [
    "df_copy[df_copy['text'].str.contains('https')]['text'].count()  # 1044"
   ]
  },
  {
   "cell_type": "markdown",
   "id": "11339237-3ad9-47cc-bc2a-91e643569d91",
   "metadata": {},
   "source": [
    "## 개수 확인 - mbti가 포함된 작성자"
   ]
  },
  {
   "cell_type": "code",
   "execution_count": 8,
   "id": "677ea996-72e5-4cdb-a250-46e53c8e61f9",
   "metadata": {
    "tags": []
   },
   "outputs": [
    {
     "name": "stdout",
     "output_type": "stream",
     "text": [
      "0 enfp 1115\n",
      "1 entp 1717\n",
      "2 enfj 648\n",
      "3 entj 544\n",
      "4 esfp 353\n",
      "5 estp 371\n",
      "6 esfj 130\n",
      "7 estj 437\n",
      "8 infp 2992\n",
      "9 intp 1296\n",
      "10 infj 1498\n",
      "11 intj 1535\n",
      "12 isfp 817\n",
      "13 istp 845\n",
      "14 isfj 785\n",
      "15 istj 370\n",
      "16 엔프피 25\n",
      "17 엔팁 80\n",
      "18 엔프제 17\n",
      "19 엔티제 11\n",
      "20 엣프피 1\n",
      "21 엣팁 43\n",
      "22 엣프제 8\n",
      "23 엣티제 6\n",
      "24 인프피 62\n",
      "25 인팁 96\n",
      "26 인프제 22\n",
      "27 인티제 127\n",
      "28 잇프피 114\n",
      "29 잇팁 50\n",
      "30 잇프제 42\n",
      "31 잇티제 2\n"
     ]
    }
   ],
   "source": [
    "lists = ['enfp', 'entp', 'enfj', 'entj', 'esfp', 'estp', 'esfj', 'estj', 'infp', 'intp', 'infj', 'intj', 'isfp', 'istp', 'isfj', 'istj',\n",
    "        '엔프피', '엔팁', '엔프제', '엔티제', '엣프피', '엣팁', '엣프제', '엣티제', '인프피', '인팁', '인프제', '인티제', '잇프피', '잇팁', '잇프제', '잇티제']\n",
    "\n",
    "for idx, li in enumerate(lists):   \n",
    "    sum_count = df_copy[df_copy['type'].str.contains(li)]['type'].count()   # .index\n",
    "    print(idx, li,sum_count)  #idx, li,       #---------16159"
   ]
  },
  {
   "cell_type": "markdown",
   "id": "c552f501-6813-4a7a-b104-b6e5d8cbaa4d",
   "metadata": {},
   "source": [
    "---"
   ]
  },
  {
   "cell_type": "markdown",
   "id": "a91d6d34-8dd4-4e9a-b9b4-505c458e41ba",
   "metadata": {
    "tags": []
   },
   "source": [
    "## 라벨 떼기"
   ]
  },
  {
   "cell_type": "code",
   "execution_count": 9,
   "id": "aad9069c-0bb4-49a0-8227-da5a524e3511",
   "metadata": {
    "tags": []
   },
   "outputs": [
    {
     "name": "stdout",
     "output_type": "stream",
     "text": [
      "<class 'pandas.core.frame.DataFrame'>\n",
      "Int64Index: 3054 entries, 21 to 24033\n",
      "Data columns (total 2 columns):\n",
      " #   Column  Non-Null Count  Dtype \n",
      "---  ------  --------------  ----- \n",
      " 0   MBTI    3054 non-null   object\n",
      " 1   text    3054 non-null   object\n",
      "dtypes: object(2)\n",
      "memory usage: 71.6+ KB\n"
     ]
    }
   ],
   "source": [
    "df_copy101 = df_copy[df_copy['type'].str.contains('infp')]\n",
    "df_copy101.insert(1, 'MBTI', 'infp') \n",
    "df_copy102 = df_copy[df_copy['type'].str.contains('인프피')]\n",
    "df_copy102.insert(1, 'MBTI', '인프피') \n",
    "df_copy103 = df_copy101.append(df_copy102)\n",
    "df_copy103 = df_copy103.drop(['type'], axis=1)\n",
    "df_copy103.info()"
   ]
  },
  {
   "cell_type": "code",
   "execution_count": 10,
   "id": "f4b519fa-392d-4893-945f-9caed6700afd",
   "metadata": {},
   "outputs": [
    {
     "name": "stdout",
     "output_type": "stream",
     "text": [
      "<class 'pandas.core.frame.DataFrame'>\n",
      "Int64Index: 1392 entries, 5 to 23939\n",
      "Data columns (total 2 columns):\n",
      " #   Column  Non-Null Count  Dtype \n",
      "---  ------  --------------  ----- \n",
      " 0   MBTI    1392 non-null   object\n",
      " 1   text    1392 non-null   object\n",
      "dtypes: object(2)\n",
      "memory usage: 32.6+ KB\n"
     ]
    }
   ],
   "source": [
    "df_copy104 = df_copy[df_copy['type'].str.contains('intp')]\n",
    "df_copy104.insert(1, 'MBTI', 'intp') \n",
    "df_copy105 = df_copy[df_copy['type'].str.contains('인팁')]\n",
    "df_copy105.insert(1, 'MBTI', '인팁') \n",
    "df_copy106 = df_copy104.append(df_copy105)\n",
    "df_copy106 = df_copy106.drop(['type'], axis=1)\n",
    "df_copy106.info()"
   ]
  },
  {
   "cell_type": "code",
   "execution_count": 11,
   "id": "9b28171f-bf67-4bc4-a44d-13bb5b179e09",
   "metadata": {},
   "outputs": [
    {
     "name": "stdout",
     "output_type": "stream",
     "text": [
      "<class 'pandas.core.frame.DataFrame'>\n",
      "Int64Index: 1520 entries, 16 to 20362\n",
      "Data columns (total 2 columns):\n",
      " #   Column  Non-Null Count  Dtype \n",
      "---  ------  --------------  ----- \n",
      " 0   MBTI    1520 non-null   object\n",
      " 1   text    1520 non-null   object\n",
      "dtypes: object(2)\n",
      "memory usage: 35.6+ KB\n"
     ]
    }
   ],
   "source": [
    "df_copy107 = df_copy[df_copy['type'].str.contains('infj')]\n",
    "df_copy107.insert(1, 'MBTI', 'infj') \n",
    "df_copy108 = df_copy[df_copy['type'].str.contains('인프제')]\n",
    "df_copy108.insert(1, 'MBTI', '인프제') \n",
    "df_copy109 = df_copy107.append(df_copy108)\n",
    "df_copy109 = df_copy109.drop(['type'], axis=1)\n",
    "df_copy109.info()"
   ]
  },
  {
   "cell_type": "code",
   "execution_count": 12,
   "id": "3141b10a-31bd-4eb1-a8f1-6e78b607d0f3",
   "metadata": {},
   "outputs": [
    {
     "name": "stdout",
     "output_type": "stream",
     "text": [
      "<class 'pandas.core.frame.DataFrame'>\n",
      "Int64Index: 1662 entries, 4 to 25395\n",
      "Data columns (total 2 columns):\n",
      " #   Column  Non-Null Count  Dtype \n",
      "---  ------  --------------  ----- \n",
      " 0   MBTI    1662 non-null   object\n",
      " 1   text    1662 non-null   object\n",
      "dtypes: object(2)\n",
      "memory usage: 39.0+ KB\n"
     ]
    }
   ],
   "source": [
    "df_copy110 = df_copy[df_copy['type'].str.contains('intj')]\n",
    "df_copy110.insert(1, 'MBTI', 'intj') \n",
    "df_copy111 = df_copy[df_copy['type'].str.contains('인티제')]\n",
    "df_copy111.insert(1, 'MBTI', '인티제') \n",
    "df_copy112 = df_copy110.append(df_copy111)\n",
    "df_copy112 = df_copy112.drop(['type'], axis=1)\n",
    "df_copy112.info()"
   ]
  },
  {
   "cell_type": "code",
   "execution_count": 13,
   "id": "3b809721-151f-45b0-afdc-2aedfe733ec7",
   "metadata": {},
   "outputs": [
    {
     "name": "stdout",
     "output_type": "stream",
     "text": [
      "<class 'pandas.core.frame.DataFrame'>\n",
      "Int64Index: 931 entries, 194 to 24245\n",
      "Data columns (total 2 columns):\n",
      " #   Column  Non-Null Count  Dtype \n",
      "---  ------  --------------  ----- \n",
      " 0   MBTI    931 non-null    object\n",
      " 1   text    931 non-null    object\n",
      "dtypes: object(2)\n",
      "memory usage: 21.8+ KB\n"
     ]
    }
   ],
   "source": [
    "df_copy113 = df_copy[df_copy['type'].str.contains('isfp')]\n",
    "df_copy113.insert(1, 'MBTI', 'isfp') \n",
    "df_copy114 = df_copy[df_copy['type'].str.contains('잇프피')]\n",
    "df_copy114.insert(1, 'MBTI', '잇프피') \n",
    "df_copy115 = df_copy113.append(df_copy114)\n",
    "df_copy115 = df_copy115.drop(['type'], axis=1)\n",
    "df_copy115.info()"
   ]
  },
  {
   "cell_type": "code",
   "execution_count": 14,
   "id": "e96414b0-b00e-4dd4-a1fa-a4ee3f048ddf",
   "metadata": {},
   "outputs": [
    {
     "name": "stdout",
     "output_type": "stream",
     "text": [
      "<class 'pandas.core.frame.DataFrame'>\n",
      "Int64Index: 895 entries, 177 to 25352\n",
      "Data columns (total 2 columns):\n",
      " #   Column  Non-Null Count  Dtype \n",
      "---  ------  --------------  ----- \n",
      " 0   MBTI    895 non-null    object\n",
      " 1   text    895 non-null    object\n",
      "dtypes: object(2)\n",
      "memory usage: 21.0+ KB\n"
     ]
    }
   ],
   "source": [
    "df_copy116 = df_copy[df_copy['type'].str.contains('istp')]\n",
    "df_copy116.insert(1, 'MBTI', 'istp') \n",
    "df_copy117 = df_copy[df_copy['type'].str.contains('잇팁')]\n",
    "df_copy117.insert(1, 'MBTI', '잇팁') \n",
    "df_copy118 = df_copy116.append(df_copy117)\n",
    "df_copy118 = df_copy118.drop(['type'], axis=1)\n",
    "df_copy118.info()"
   ]
  },
  {
   "cell_type": "code",
   "execution_count": 15,
   "id": "8574f0d3-3cb6-4e7e-bdbf-3eca945c9422",
   "metadata": {},
   "outputs": [
    {
     "name": "stdout",
     "output_type": "stream",
     "text": [
      "<class 'pandas.core.frame.DataFrame'>\n",
      "Int64Index: 827 entries, 55 to 25303\n",
      "Data columns (total 2 columns):\n",
      " #   Column  Non-Null Count  Dtype \n",
      "---  ------  --------------  ----- \n",
      " 0   MBTI    827 non-null    object\n",
      " 1   text    827 non-null    object\n",
      "dtypes: object(2)\n",
      "memory usage: 19.4+ KB\n"
     ]
    }
   ],
   "source": [
    "df_copy119 = df_copy[df_copy['type'].str.contains('isfj')]\n",
    "df_copy119.insert(1, 'MBTI', 'isfj') \n",
    "df_copy120 = df_copy[df_copy['type'].str.contains('잇프제')]\n",
    "df_copy120.insert(1, 'MBTI', '잇프제') \n",
    "df_copy121 = df_copy119.append(df_copy120)\n",
    "df_copy121 = df_copy121.drop(['type'], axis=1)\n",
    "df_copy121.info()"
   ]
  },
  {
   "cell_type": "code",
   "execution_count": 16,
   "id": "3cfa1c3c-bd83-4574-a053-c52fb73bc4e5",
   "metadata": {},
   "outputs": [
    {
     "name": "stdout",
     "output_type": "stream",
     "text": [
      "<class 'pandas.core.frame.DataFrame'>\n",
      "Int64Index: 372 entries, 891 to 14230\n",
      "Data columns (total 2 columns):\n",
      " #   Column  Non-Null Count  Dtype \n",
      "---  ------  --------------  ----- \n",
      " 0   MBTI    372 non-null    object\n",
      " 1   text    372 non-null    object\n",
      "dtypes: object(2)\n",
      "memory usage: 8.7+ KB\n"
     ]
    }
   ],
   "source": [
    "df_copy122 = df_copy[df_copy['type'].str.contains('istj')]\n",
    "df_copy122.insert(1, 'MBTI', 'istj') \n",
    "df_copy123 = df_copy[df_copy['type'].str.contains('잇티제')]\n",
    "df_copy123.insert(1, 'MBTI', '잇티제') \n",
    "df_copy124 = df_copy122.append(df_copy123)\n",
    "df_copy124 = df_copy124.drop(['type'], axis=1)\n",
    "df_copy124.info()"
   ]
  },
  {
   "cell_type": "markdown",
   "id": "6b97b5ef-4b16-480b-ab16-2abed941cdd1",
   "metadata": {},
   "source": [
    "---"
   ]
  },
  {
   "cell_type": "code",
   "execution_count": 17,
   "id": "ac2c1391-0628-41a9-a799-b6a19c0b698b",
   "metadata": {},
   "outputs": [
    {
     "name": "stdout",
     "output_type": "stream",
     "text": [
      "<class 'pandas.core.frame.DataFrame'>\n",
      "Int64Index: 4446 entries, 21 to 23939\n",
      "Data columns (total 2 columns):\n",
      " #   Column  Non-Null Count  Dtype \n",
      "---  ------  --------------  ----- \n",
      " 0   MBTI    4446 non-null   object\n",
      " 1   text    4446 non-null   object\n",
      "dtypes: object(2)\n",
      "memory usage: 104.2+ KB\n"
     ]
    }
   ],
   "source": [
    "df_copy125 = df_copy103.append(df_copy106)\n",
    "df_copy125.info()"
   ]
  },
  {
   "cell_type": "code",
   "execution_count": 18,
   "id": "a64c6f1b-aaa6-4b22-9760-eb36746199af",
   "metadata": {},
   "outputs": [
    {
     "name": "stdout",
     "output_type": "stream",
     "text": [
      "<class 'pandas.core.frame.DataFrame'>\n",
      "Int64Index: 3182 entries, 16 to 25395\n",
      "Data columns (total 2 columns):\n",
      " #   Column  Non-Null Count  Dtype \n",
      "---  ------  --------------  ----- \n",
      " 0   MBTI    3182 non-null   object\n",
      " 1   text    3182 non-null   object\n",
      "dtypes: object(2)\n",
      "memory usage: 74.6+ KB\n"
     ]
    }
   ],
   "source": [
    "df_copy126 = df_copy109.append(df_copy112)\n",
    "df_copy126.info()"
   ]
  },
  {
   "cell_type": "code",
   "execution_count": 19,
   "id": "ae421c37-b3b6-4851-b54b-78976d15f58d",
   "metadata": {},
   "outputs": [
    {
     "name": "stdout",
     "output_type": "stream",
     "text": [
      "<class 'pandas.core.frame.DataFrame'>\n",
      "Int64Index: 1826 entries, 194 to 25352\n",
      "Data columns (total 2 columns):\n",
      " #   Column  Non-Null Count  Dtype \n",
      "---  ------  --------------  ----- \n",
      " 0   MBTI    1826 non-null   object\n",
      " 1   text    1826 non-null   object\n",
      "dtypes: object(2)\n",
      "memory usage: 42.8+ KB\n"
     ]
    }
   ],
   "source": [
    "df_copy127 = df_copy115.append(df_copy118)\n",
    "df_copy127.info()"
   ]
  },
  {
   "cell_type": "code",
   "execution_count": 20,
   "id": "9a6e61d3-0f68-4be4-93f4-512bbc284aed",
   "metadata": {},
   "outputs": [
    {
     "name": "stdout",
     "output_type": "stream",
     "text": [
      "<class 'pandas.core.frame.DataFrame'>\n",
      "Int64Index: 1199 entries, 55 to 14230\n",
      "Data columns (total 2 columns):\n",
      " #   Column  Non-Null Count  Dtype \n",
      "---  ------  --------------  ----- \n",
      " 0   MBTI    1199 non-null   object\n",
      " 1   text    1199 non-null   object\n",
      "dtypes: object(2)\n",
      "memory usage: 28.1+ KB\n"
     ]
    }
   ],
   "source": [
    "df_copy128 = df_copy121.append(df_copy124)\n",
    "df_copy128.info()"
   ]
  },
  {
   "cell_type": "code",
   "execution_count": 21,
   "id": "2f4ba668-f617-4eab-b13c-0609c8c5163b",
   "metadata": {},
   "outputs": [
    {
     "name": "stdout",
     "output_type": "stream",
     "text": [
      "<class 'pandas.core.frame.DataFrame'>\n",
      "Int64Index: 7628 entries, 21 to 25395\n",
      "Data columns (total 2 columns):\n",
      " #   Column  Non-Null Count  Dtype \n",
      "---  ------  --------------  ----- \n",
      " 0   MBTI    7628 non-null   object\n",
      " 1   text    7628 non-null   object\n",
      "dtypes: object(2)\n",
      "memory usage: 178.8+ KB\n"
     ]
    }
   ],
   "source": [
    "df_copy129 = df_copy125.append(df_copy126)\n",
    "df_copy129.info()"
   ]
  },
  {
   "cell_type": "code",
   "execution_count": 22,
   "id": "4b2e5fb0-f48c-489e-9c25-b318bf0ad6a6",
   "metadata": {},
   "outputs": [
    {
     "name": "stdout",
     "output_type": "stream",
     "text": [
      "<class 'pandas.core.frame.DataFrame'>\n",
      "Int64Index: 3025 entries, 194 to 14230\n",
      "Data columns (total 2 columns):\n",
      " #   Column  Non-Null Count  Dtype \n",
      "---  ------  --------------  ----- \n",
      " 0   MBTI    3025 non-null   object\n",
      " 1   text    3025 non-null   object\n",
      "dtypes: object(2)\n",
      "memory usage: 70.9+ KB\n"
     ]
    }
   ],
   "source": [
    "df_copy130 = df_copy127.append(df_copy128)\n",
    "df_copy130.info()"
   ]
  },
  {
   "cell_type": "code",
   "execution_count": 23,
   "id": "f5a51e5b-0069-4d3e-ba96-0b8ccd18563b",
   "metadata": {},
   "outputs": [
    {
     "name": "stdout",
     "output_type": "stream",
     "text": [
      "<class 'pandas.core.frame.DataFrame'>\n",
      "Int64Index: 10653 entries, 21 to 14230\n",
      "Data columns (total 2 columns):\n",
      " #   Column  Non-Null Count  Dtype \n",
      "---  ------  --------------  ----- \n",
      " 0   MBTI    10653 non-null  object\n",
      " 1   text    10653 non-null  object\n",
      "dtypes: object(2)\n",
      "memory usage: 249.7+ KB\n"
     ]
    }
   ],
   "source": [
    "df_copy131 = df_copy129.append(df_copy130)\n",
    "df_copy131.info()"
   ]
  },
  {
   "cell_type": "code",
   "execution_count": 24,
   "id": "b26c5177-c888-415e-8ff2-88c2da2537e7",
   "metadata": {},
   "outputs": [
    {
     "data": {
      "text/html": [
       "<div>\n",
       "<style scoped>\n",
       "    .dataframe tbody tr th:only-of-type {\n",
       "        vertical-align: middle;\n",
       "    }\n",
       "\n",
       "    .dataframe tbody tr th {\n",
       "        vertical-align: top;\n",
       "    }\n",
       "\n",
       "    .dataframe thead th {\n",
       "        text-align: right;\n",
       "    }\n",
       "</style>\n",
       "<table border=\"1\" class=\"dataframe\">\n",
       "  <thead>\n",
       "    <tr style=\"text-align: right;\">\n",
       "      <th></th>\n",
       "      <th>MBTI</th>\n",
       "      <th>text</th>\n",
       "    </tr>\n",
       "  </thead>\n",
       "  <tbody>\n",
       "    <tr>\n",
       "      <th>21</th>\n",
       "      <td>infp</td>\n",
       "      <td>우울 일기.회사에서 돈과 관련된 대형 실수를 저질렀다...금액은 크지 않지만 누군가에게 피해를 입힐 수 있다는 게 두렵게 다가왔다...병신 같다 진짜... 하아아아아...</td>\n",
       "    </tr>\n",
       "    <tr>\n",
       "      <th>23</th>\n",
       "      <td>infp</td>\n",
       "      <td>엠헬에서 만난 귀인께 드리는 글.조언과 저의 조언 느낀점이에요저에게는 귀인이신 분...스스로를 나쁘게 말하고 다니는 습관을 이제는 안하셨으면 바랍니다..그리고 귀인 지인분들은..귀인이 스스로 말하는 건 제가 그렇게 말해도 된다고 허락한 것이에요..사회적 이미지를 신경 안쓰는게 아니라제 아이디는 제 오프라인 지인들이 알고 있고그들은 저를 지켜봐왔기 때문에 사회적 이미지가 망가진다 생각하지 않았고 실제로 망가지지 않았어요그렇게 하는게 귀인 마음이 편해진다면 그렇게 하라고 한거에요그리고..귀인이 제게 가르친건..어떻게 하면 행복한 결혼생활이 되는지 현실적인 조언들을 해주셨어요저는 조언을 해주실때그 분이 가정의 행복을 위해 어떤 점들을 가족끼리 서로 노력해야하는지 알려주실때 제가 느낀 감정은 그 분은 가정의 평화를 진심으로 바라시는 분이라는 걸 느꼈어요저는 제가 느낀 감정을 믿어요그때 그 감정이 너무 인상 깊어서 더 조언대로 행동했었어요이 부분이 제가 그 분을 한 사람으로써 좋아하게 된 계기이기도해요나쁜 분 아니에요지금은 연락도 안해요일상생활 잘 지내고 있어요그분이 스스로를 나쁘게 말하는게그분이 좋아서 그런거라고 생각했기 때문에 그대로 뒀었는데..저에겐 감사한 분인데 ...감사한 마음 .. 표현 안하면 안될거 같아서 올려요올려도 안 믿을 사람은 안 믿고믿을 사람은 믿고모든 사람이 믿을거라 생각하지는 않아요..이 글 올리는 목적은..귀인이 저를 싫어하게 되는건 좋은데그 이유는 귀인이 알거에요저 때문에 피해 입는건 싫어서요</td>\n",
       "    </tr>\n",
       "    <tr>\n",
       "      <th>45</th>\n",
       "      <td>infp</td>\n",
       "      <td>나만의 미라클 모닝.저한테 미라클 모닝은 사실이렇게 무사히 일어나서 지각 없이 출근해서 무사히 하루하루를 보내는거에요.20대때의 저는 심각한 불면증, 우울증, 무기력증 때문에 아침에 무사히 일어나는 것, 지각 없이 무사히 등교출근하는 것, 하루하루를 무사히 보내는 것 모두가 제대로 안 됐었거든요.나는 왜 남들만큼 사는 것도 안 될까? 내가 남들만큼 사는 날이 오기는 할까? 생각하면서 매일 울면서 지냈던 것 같아요.그때를 생각하면 이렇게 평범하게 일상생활을 하는 지금이 기적같아요. 밤에 잘 자고 아침에 잘 일어나서 출근을 할 수 있다니! 미라클 미라클</td>\n",
       "    </tr>\n",
       "    <tr>\n",
       "      <th>82</th>\n",
       "      <td>infp</td>\n",
       "      <td>오늘 하루도 감사한 마음으로.하고 싶은 일을 하는데도해야 할 일처럼 느껴질 때 오는 스트레스가 알게 모르게 컸나 봅니다며칠 무너졌고 다시 마음 다지고 일어났어요뭐든지 마음이 무너지면 아무 의미 없네요긍정적인 생각으로 모든 것들을 감사하게 받아들이는 중입니다!여기 계신 모든 분들도 너무 큰 행복도너무 큰 고통도 아닌잔잔한 시냇물처럼 가장 편안한 마음으로 숙면하시길 바랍니다!</td>\n",
       "    </tr>\n",
       "    <tr>\n",
       "      <th>85</th>\n",
       "      <td>infp</td>\n",
       "      <td>te를 잘 쓸 수 있었다. (어제 쓴 글).오늘 하루 동안만큼은 잘 쓸 수 있었다.가히 잘 썼다고 말할 수 있겠다.물론 일시적인 현상이었지만,마치 내가 원래 자주 쓰던 것처럼 아주 편안하게.흔들리지 않게 시몬스  쓸 수 있었던 건,정말.. 오랜만이었다.estj 친구의 자연스러운 te발현에,다시 말해, 엣티제 친구가 내 열등기능을 긍정적인 쪽으로 건드려주었기 때문에.내가 오랫동안 억눌러 오던 내 열등기능이 반응했다.나쁜 쪽이 아니라, 좋은 쪽으로.그런데 이건 비단 나에게만 있었던 일이 아니다.estj의 fi도 동시에 반응했다.웃긴 건 친구와 나의 mbti 지표가 모두 다르기에,그 때에, 나는 내 주기능fi을, 엣티제 친구는 친구의 주기능te을서로 교차하여.., 즉 자신의 열등기능을 사용하는 모습이 되었다는 것이다.인프피같은 엣티제와 엣티제같은 인프피라니.짧은 순간이었지만 이 사실을 되짚고 있으니 또 기쁨이 몰려온다.오늘 하루종일 함께 있었더니. 역시나.서로에게 무의식적으로 좋은 영향을 주고 있었다는 사실을 깨달았다.항상 무의식적으로 알고는 있었으나 억눌렀는데.존재를 모르지 않았으나 외면했는데.내 te에게 참 미안하고, 다시 좋은 모습으로 만나게 되어 조심스러우나, 기쁘다.그리고 엣티제에게 사랑한다 친구야 오늘 재밌었어!  20211106 대화록펑제 사랑스러운 엣티제 친구 자랑은 여기까지!</td>\n",
       "    </tr>\n",
       "    <tr>\n",
       "      <th>...</th>\n",
       "      <td>...</td>\n",
       "      <td>...</td>\n",
       "    </tr>\n",
       "    <tr>\n",
       "      <th>25233</th>\n",
       "      <td>istj</td>\n",
       "      <td>16personalities 검사는 mbti 검사가 아니다.16personalities 는 mbti 검사가 아닌 것은 맞습니다.이것은 neris 유형검사 라는 이름의 성격검사로,big five 라는 성격 모형을 기반으로 한, 그러나 mbti의 표기법을 차용하여 만든, 다른 성격검사입니다.하지만 중요한 건, big five와 mbti의 차이가 중요합니다.big five의 특질군들은 mbti가 측정하는 성격유형의 특징들과아주 유사하다는 겁니다.정확히 말하자면, mbti는 big five의 것과 본질적으로 동일한 5차원 성격 구조5dimensional structure of prrsonality를 측정합니다.이는 성격의 5차원 구조 모형 확립에 핵심적인 공헌을 한, 현대 성격심리학의 권위자, 폴 코스타와 로바트 맥크레이의 연구에 의해 이미 확인된 바 있습니다.상관관계 연구는 mbti가 일반 성격의 5개 차원 중 네 개를 정말로 측정한다는 것을 보여준다. mbti의 결과들은 일반적으로 보다 날리 받아들여지는 5요인 모형fivefactor model, ffm의 관점에서 해석되어질 수 있다. 코스타  맥크레이, mbti의 재해석 mbti는 1980년대 이후로 오인분석big five를 만들 때 쓴 바로 그 기법을 사용해 문항들을 검토하고 있어서,요즘 mbti 검사지는 5대 성격 차원을 옛날보다 더 잘 측정합니다.mbti가 요인분석을 활용하고 있기 때문에, big five와의치이는 더더욱 희미해졌습니다.</td>\n",
       "    </tr>\n",
       "    <tr>\n",
       "      <th>25234</th>\n",
       "      <td>istj</td>\n",
       "      <td>오랜만에 들려요.오랜만에 엠헬 키페에 오니 기분이 정화되네여 요즘 사회에 찌들어서 힘드네요 모두들 해피 추석 보내요</td>\n",
       "    </tr>\n",
       "    <tr>\n",
       "      <th>25239</th>\n",
       "      <td>istj</td>\n",
       "      <td>mbti 밈 번역 4.재미로 봐주세요httpsm.blog.naver.comasad1315222484852042학교 복도에서 싸움이 났을 때entp, isfp, intp, enfp싸워라! 싸워라! 싸워라! 싸워라!estj, isfj선생님을 데려옴infp, infj, intj, esfj다른 사람에게 선생님이 오고 있는 걸 알림istj싸우는 사람 때문에 사물함에 못 가 짜증 남estp, istp싸우는 사람 중 한 명enfj, entj싸울을 말리려 함esfp같이 구경하거나 싸운다 화장실에 휴지가 없을 때intj, istj절대 그런 상황에 빠지지 않음infj, isfj, infp필사적으로 다른 휴지를 찾음esfj, enfj, isfp도와달라고 외친다estp, entj, istp맨손으로 닦는다entp, intp, enfp즉석에서 대체품을 만든다esfp, estj경찰을 부른다 질서 선infp, esfj, isfj중립 선infj, isfp, enfj혼돈 선enfp중립 선istj완전 중립intp, istp혼돈 중립estp, esfp질서 악intj중립 악entj, estj혼돈 악entp 좋아해라고 했을 때infj, entj, istp고마워isfp, esfj, enfj, isfj나도 좋아해!infp, intp눈이 커진다estp, estj, esfp고마워 나도 내가 좋아entp, enfp그건 나쁜 결정이야istj, intj메시지를 새벽 4시 36에 읽음 내 힘은 에서부터 온다istj, infj, enfj내면esfp. infp, isfp친구entj, istp, estj적isfj, esfj섬기는 왕, 신intj, intp지옥enfp, entp, estp만화 캐릭터, 흥분 면접 볼 때왜 당신을 고용해야 되죠?istj, intj, estj, entp근면 성실하게 일할 수 있기 때문에esfj, isfj, enfj매일 아침 쿠키를 가져오기 때문에estp, esfp, enfp안될 이유가 뭐 있죠?infj, intp, istp, enfp 고용하는 편이 고용주 입장에서도 좋기 때문에infp, isfp고용하지 않으면 울기 때문에</td>\n",
       "    </tr>\n",
       "    <tr>\n",
       "      <th>2407</th>\n",
       "      <td>잇티제</td>\n",
       "      <td>학교가 너무 좋아요 빨리 개학 했으면...이제 고3인데 입시생이 된건 화나지만 그냥 학교가 너무 좋아요 아직도 2월이라니이</td>\n",
       "    </tr>\n",
       "    <tr>\n",
       "      <th>14230</th>\n",
       "      <td>잇티제</td>\n",
       "      <td>제 마음의 덫 테스트 보실분..ㅎㅎ.어떤 테스트를 하든 압박과 완벽주의가 굉장히 높게 나오네요 제 숙명인가봅니다</td>\n",
       "    </tr>\n",
       "  </tbody>\n",
       "</table>\n",
       "<p>10653 rows × 2 columns</p>\n",
       "</div>"
      ],
      "text/plain": [
       "       MBTI  \\\n",
       "21     infp   \n",
       "23     infp   \n",
       "45     infp   \n",
       "82     infp   \n",
       "85     infp   \n",
       "...     ...   \n",
       "25233  istj   \n",
       "25234  istj   \n",
       "25239  istj   \n",
       "2407    잇티제   \n",
       "14230   잇티제   \n",
       "\n",
       "                                                                                                                                                                                                                                                                                                                                                                                                                                                                                                                                                                                                                                                                                                                                                                                                                                                                                                                                                                                                                                                             text  \n",
       "21                                                                                                                                                                                                                                                                                                                                                                                                                                                                                                                                                                                                                                                                                                                                                                                                                                                                                                                                                                우울 일기.회사에서 돈과 관련된 대형 실수를 저질렀다...금액은 크지 않지만 누군가에게 피해를 입힐 수 있다는 게 두렵게 다가왔다...병신 같다 진짜... 하아아아아...  \n",
       "23                                                                                                                                                                                                                                                                                      엠헬에서 만난 귀인께 드리는 글.조언과 저의 조언 느낀점이에요저에게는 귀인이신 분...스스로를 나쁘게 말하고 다니는 습관을 이제는 안하셨으면 바랍니다..그리고 귀인 지인분들은..귀인이 스스로 말하는 건 제가 그렇게 말해도 된다고 허락한 것이에요..사회적 이미지를 신경 안쓰는게 아니라제 아이디는 제 오프라인 지인들이 알고 있고그들은 저를 지켜봐왔기 때문에 사회적 이미지가 망가진다 생각하지 않았고 실제로 망가지지 않았어요그렇게 하는게 귀인 마음이 편해진다면 그렇게 하라고 한거에요그리고..귀인이 제게 가르친건..어떻게 하면 행복한 결혼생활이 되는지 현실적인 조언들을 해주셨어요저는 조언을 해주실때그 분이 가정의 행복을 위해 어떤 점들을 가족끼리 서로 노력해야하는지 알려주실때 제가 느낀 감정은 그 분은 가정의 평화를 진심으로 바라시는 분이라는 걸 느꼈어요저는 제가 느낀 감정을 믿어요그때 그 감정이 너무 인상 깊어서 더 조언대로 행동했었어요이 부분이 제가 그 분을 한 사람으로써 좋아하게 된 계기이기도해요나쁜 분 아니에요지금은 연락도 안해요일상생활 잘 지내고 있어요그분이 스스로를 나쁘게 말하는게그분이 좋아서 그런거라고 생각했기 때문에 그대로 뒀었는데..저에겐 감사한 분인데 ...감사한 마음 .. 표현 안하면 안될거 같아서 올려요올려도 안 믿을 사람은 안 믿고믿을 사람은 믿고모든 사람이 믿을거라 생각하지는 않아요..이 글 올리는 목적은..귀인이 저를 싫어하게 되는건 좋은데그 이유는 귀인이 알거에요저 때문에 피해 입는건 싫어서요  \n",
       "45                                                                                                                                                                                                                                                                                                                                                                                                                                                                                                                                                                                                                                                                                                                                        나만의 미라클 모닝.저한테 미라클 모닝은 사실이렇게 무사히 일어나서 지각 없이 출근해서 무사히 하루하루를 보내는거에요.20대때의 저는 심각한 불면증, 우울증, 무기력증 때문에 아침에 무사히 일어나는 것, 지각 없이 무사히 등교출근하는 것, 하루하루를 무사히 보내는 것 모두가 제대로 안 됐었거든요.나는 왜 남들만큼 사는 것도 안 될까? 내가 남들만큼 사는 날이 오기는 할까? 생각하면서 매일 울면서 지냈던 것 같아요.그때를 생각하면 이렇게 평범하게 일상생활을 하는 지금이 기적같아요. 밤에 잘 자고 아침에 잘 일어나서 출근을 할 수 있다니! 미라클 미라클   \n",
       "82                                                                                                                                                                                                                                                                                                                                                                                                                                                                                                                                                                                                                                                                                                                                                                                                                                            오늘 하루도 감사한 마음으로.하고 싶은 일을 하는데도해야 할 일처럼 느껴질 때 오는 스트레스가 알게 모르게 컸나 봅니다며칠 무너졌고 다시 마음 다지고 일어났어요뭐든지 마음이 무너지면 아무 의미 없네요긍정적인 생각으로 모든 것들을 감사하게 받아들이는 중입니다!여기 계신 모든 분들도 너무 큰 행복도너무 큰 고통도 아닌잔잔한 시냇물처럼 가장 편안한 마음으로 숙면하시길 바랍니다!    \n",
       "85                                                                                                                                                                                                                                                                                                                                                              te를 잘 쓸 수 있었다. (어제 쓴 글).오늘 하루 동안만큼은 잘 쓸 수 있었다.가히 잘 썼다고 말할 수 있겠다.물론 일시적인 현상이었지만,마치 내가 원래 자주 쓰던 것처럼 아주 편안하게.흔들리지 않게 시몬스  쓸 수 있었던 건,정말.. 오랜만이었다.estj 친구의 자연스러운 te발현에,다시 말해, 엣티제 친구가 내 열등기능을 긍정적인 쪽으로 건드려주었기 때문에.내가 오랫동안 억눌러 오던 내 열등기능이 반응했다.나쁜 쪽이 아니라, 좋은 쪽으로.그런데 이건 비단 나에게만 있었던 일이 아니다.estj의 fi도 동시에 반응했다.웃긴 건 친구와 나의 mbti 지표가 모두 다르기에,그 때에, 나는 내 주기능fi을, 엣티제 친구는 친구의 주기능te을서로 교차하여.., 즉 자신의 열등기능을 사용하는 모습이 되었다는 것이다.인프피같은 엣티제와 엣티제같은 인프피라니.짧은 순간이었지만 이 사실을 되짚고 있으니 또 기쁨이 몰려온다.오늘 하루종일 함께 있었더니. 역시나.서로에게 무의식적으로 좋은 영향을 주고 있었다는 사실을 깨달았다.항상 무의식적으로 알고는 있었으나 억눌렀는데.존재를 모르지 않았으나 외면했는데.내 te에게 참 미안하고, 다시 좋은 모습으로 만나게 되어 조심스러우나, 기쁘다.그리고 엣티제에게 사랑한다 친구야 오늘 재밌었어!  20211106 대화록펑제 사랑스러운 엣티제 친구 자랑은 여기까지!  \n",
       "...                                                                                                                                                                                                                                                                                                                                                                                                                                                                                                                                                                                                                                                                                                                                                                                                                                                                                                                                                                                                                                                           ...  \n",
       "25233                                                                                                                                                                                                                                                                                                16personalities 검사는 mbti 검사가 아니다.16personalities 는 mbti 검사가 아닌 것은 맞습니다.이것은 neris 유형검사 라는 이름의 성격검사로,big five 라는 성격 모형을 기반으로 한, 그러나 mbti의 표기법을 차용하여 만든, 다른 성격검사입니다.하지만 중요한 건, big five와 mbti의 차이가 중요합니다.big five의 특질군들은 mbti가 측정하는 성격유형의 특징들과아주 유사하다는 겁니다.정확히 말하자면, mbti는 big five의 것과 본질적으로 동일한 5차원 성격 구조5dimensional structure of prrsonality를 측정합니다.이는 성격의 5차원 구조 모형 확립에 핵심적인 공헌을 한, 현대 성격심리학의 권위자, 폴 코스타와 로바트 맥크레이의 연구에 의해 이미 확인된 바 있습니다.상관관계 연구는 mbti가 일반 성격의 5개 차원 중 네 개를 정말로 측정한다는 것을 보여준다. mbti의 결과들은 일반적으로 보다 날리 받아들여지는 5요인 모형fivefactor model, ffm의 관점에서 해석되어질 수 있다. 코스타  맥크레이, mbti의 재해석 mbti는 1980년대 이후로 오인분석big five를 만들 때 쓴 바로 그 기법을 사용해 문항들을 검토하고 있어서,요즘 mbti 검사지는 5대 성격 차원을 옛날보다 더 잘 측정합니다.mbti가 요인분석을 활용하고 있기 때문에, big five와의치이는 더더욱 희미해졌습니다.  \n",
       "25234                                                                                                                                                                                                                                                                                                                                                                                                                                                                                                                                                                                                                                                                                                                                                                                                                                                                                                                                                                                            오랜만에 들려요.오랜만에 엠헬 키페에 오니 기분이 정화되네여 요즘 사회에 찌들어서 힘드네요 모두들 해피 추석 보내요  \n",
       "25239  mbti 밈 번역 4.재미로 봐주세요httpsm.blog.naver.comasad1315222484852042학교 복도에서 싸움이 났을 때entp, isfp, intp, enfp싸워라! 싸워라! 싸워라! 싸워라!estj, isfj선생님을 데려옴infp, infj, intj, esfj다른 사람에게 선생님이 오고 있는 걸 알림istj싸우는 사람 때문에 사물함에 못 가 짜증 남estp, istp싸우는 사람 중 한 명enfj, entj싸울을 말리려 함esfp같이 구경하거나 싸운다 화장실에 휴지가 없을 때intj, istj절대 그런 상황에 빠지지 않음infj, isfj, infp필사적으로 다른 휴지를 찾음esfj, enfj, isfp도와달라고 외친다estp, entj, istp맨손으로 닦는다entp, intp, enfp즉석에서 대체품을 만든다esfp, estj경찰을 부른다 질서 선infp, esfj, isfj중립 선infj, isfp, enfj혼돈 선enfp중립 선istj완전 중립intp, istp혼돈 중립estp, esfp질서 악intj중립 악entj, estj혼돈 악entp 좋아해라고 했을 때infj, entj, istp고마워isfp, esfj, enfj, isfj나도 좋아해!infp, intp눈이 커진다estp, estj, esfp고마워 나도 내가 좋아entp, enfp그건 나쁜 결정이야istj, intj메시지를 새벽 4시 36에 읽음 내 힘은 에서부터 온다istj, infj, enfj내면esfp. infp, isfp친구entj, istp, estj적isfj, esfj섬기는 왕, 신intj, intp지옥enfp, entp, estp만화 캐릭터, 흥분 면접 볼 때왜 당신을 고용해야 되죠?istj, intj, estj, entp근면 성실하게 일할 수 있기 때문에esfj, isfj, enfj매일 아침 쿠키를 가져오기 때문에estp, esfp, enfp안될 이유가 뭐 있죠?infj, intp, istp, enfp 고용하는 편이 고용주 입장에서도 좋기 때문에infp, isfp고용하지 않으면 울기 때문에   \n",
       "2407                                                                                                                                                                                                                                                                                                                                                                                                                                                                                                                                                                                                                                                                                                                                                                                                                                                                                                                                                                                         학교가 너무 좋아요 빨리 개학 했으면...이제 고3인데 입시생이 된건 화나지만 그냥 학교가 너무 좋아요 아직도 2월이라니이  \n",
       "14230                                                                                                                                                                                                                                                                                                                                                                                                                                                                                                                                                                                                                                                                                                                                                                                                                                                                                                                                                                                             제 마음의 덫 테스트 보실분..ㅎㅎ.어떤 테스트를 하든 압박과 완벽주의가 굉장히 높게 나오네요 제 숙명인가봅니다   \n",
       "\n",
       "[10653 rows x 2 columns]"
      ]
     },
     "execution_count": 24,
     "metadata": {},
     "output_type": "execute_result"
    }
   ],
   "source": [
    "df_copy131"
   ]
  }
 ],
 "metadata": {
  "kernelspec": {
   "display_name": "Python 3 (ipykernel)",
   "language": "python",
   "name": "python3"
  },
  "language_info": {
   "codemirror_mode": {
    "name": "ipython",
    "version": 3
   },
   "file_extension": ".py",
   "mimetype": "text/x-python",
   "name": "python",
   "nbconvert_exporter": "python",
   "pygments_lexer": "ipython3",
   "version": "3.8.8"
  }
 },
 "nbformat": 4,
 "nbformat_minor": 5
}
