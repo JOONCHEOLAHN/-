{
 "cells": [
  {
   "cell_type": "markdown",
   "id": "18f69ec3-48c9-4e20-811d-82f52bb0f30d",
   "metadata": {},
   "source": [
    "## 크롤링에 필요한 라이브러리"
   ]
  },
  {
   "cell_type": "code",
   "execution_count": 2,
   "id": "94884990-1af0-4b7e-b37d-3c645e0ee714",
   "metadata": {},
   "outputs": [],
   "source": [
    "import pandas as pd\n",
    "from selenium import webdriver\n",
    "from selenium.webdriver.common.keys import Keys\n",
    "import time\n",
    "from bs4 import BeautifulSoup as bs"
   ]
  },
  {
   "cell_type": "code",
   "execution_count": null,
   "id": "9f5e6f4a-8669-4c07-9716-efeb94cd5d02",
   "metadata": {},
   "outputs": [
    {
     "name": "stderr",
     "output_type": "stream",
     "text": [
      "C:\\Users\\718\\AppData\\Local\\Temp/ipykernel_7628/997313917.py:1: DeprecationWarning: executable_path has been deprecated, please pass in a Service object\n",
      "  driver = webdriver.Chrome(\"C:/Program Files/Google/Chrome/Application/chrome.exe\")\n"
     ]
    }
   ],
   "source": [
    "driver = webdriver.Chrome(\"C:/Program Files/Google/Chrome/Application/chrome.exe\")\n"
   ]
  },
  {
   "cell_type": "code",
   "execution_count": null,
   "id": "0c98acf6-1f81-4925-a5fb-718ef681d1e1",
   "metadata": {},
   "outputs": [],
   "source": [
    "driver.get(\"https://cafe.naver.com/mbticafe\")\n",
    "driver.implicitly_wait(3)"
   ]
  },
  {
   "cell_type": "markdown",
   "id": "6c97cbd8-dad5-48ba-81cc-0997a1348bab",
   "metadata": {},
   "source": [
    "## 네이버 로그인"
   ]
  },
  {
   "cell_type": "code",
   "execution_count": 4,
   "id": "b3fc4b3e-1d4d-484f-a0ad-0722f00c22c5",
   "metadata": {},
   "outputs": [],
   "source": [
    "# # 로그인 전용 화면\n",
    "# driver.get('https://nid.naver.com/nidlogin.login')\n",
    "# # 아이디와 비밀번호 입력\n",
    "# driver.find_element_by_name('id').send_keys('아이디')\n",
    "# driver.find_element_by_name('pw').send_keys('비밀번호')\n",
    "# # 로그인 버튼 클릭\n",
    "# driver.find_element_by_css_selector('#frmNIDLogin > fieldset > input').click()"
   ]
  },
  {
   "cell_type": "code",
   "execution_count": null,
   "id": "85d265e7-84be-4688-b21e-f8cb7cecfed7",
   "metadata": {},
   "outputs": [],
   "source": []
  },
  {
   "cell_type": "markdown",
   "id": "8b7753e0-edf4-4810-a2e8-575b036123f0",
   "metadata": {},
   "source": [
    "## 게시판 목록으로 접근"
   ]
  },
  {
   "cell_type": "code",
   "execution_count": 5,
   "id": "9c4b8b4c-12ea-4782-a2fb-f8ead7cc397a",
   "metadata": {
    "tags": []
   },
   "outputs": [],
   "source": [
    "base_url = 'https://cafe.naver.com/mbticafe/ArticleList.nhn?search.clubid=11856775&amp'\n",
    "driver.get(base_url + '&search.menuid=18&amp&search.page=***')\n",
    "# iframe으로 프레임 전환\n",
    "driver.switch_to.frame('cafe_main')"
   ]
  },
  {
   "cell_type": "code",
   "execution_count": 7,
   "id": "ca21de62-1e28-4755-b57c-f754fcb6e6a6",
   "metadata": {},
   "outputs": [
    {
     "ename": "IndentationError",
     "evalue": "unindent does not match any outer indentation level (<tokenize>, line 5)",
     "output_type": "error",
     "traceback": [
      "\u001b[1;36m  File \u001b[1;32m\"<tokenize>\"\u001b[1;36m, line \u001b[1;32m5\u001b[0m\n\u001b[1;33m    </a>\u001b[0m\n\u001b[1;37m    ^\u001b[0m\n\u001b[1;31mIndentationError\u001b[0m\u001b[1;31m:\u001b[0m unindent does not match any outer indentation level\n"
     ]
    }
   ],
   "source": [
    "<a href=\"/ArticleList.nhn?search.clubid=11856775&amp;search.menuid=18&amp;search.boardtype=L\" \n",
    "target=\"cafe_main\" onclick=\"goMenu('18');clickcr(this, 'mnu.normal','','',event);\" \n",
    "class=\"gm-tcol-c b\" id=\"menuLink18\">\n",
    "\t\t\t\t\t\tINFP ♧ ENFP\n",
    "\t\t\t\t\t</a>"
   ]
  },
  {
   "cell_type": "code",
   "execution_count": null,
   "id": "e649ed6b-7dee-4cdb-a12f-d182ed5f455f",
   "metadata": {},
   "outputs": [],
   "source": [
    "# href 속성을 찾아 url을 리스트로 저장한다.\n",
    "## 각 카페마다 태그의 형식이 다를 수 있으니 확인해야 한다. ( 태그.클래스명 )\n",
    "article_list = driver.find_elements_by_css_selector('span.aaa > a.m-tcol-c')\n",
    "article_urls = [ i.get_attribute('href') for i in article_list ]"
   ]
  },
  {
   "cell_type": "markdown",
   "id": "ec87d145-0bb2-4c51-9734-afe3a96e56c2",
   "metadata": {},
   "source": [
    "## 게시글로 접근"
   ]
  },
  {
   "cell_type": "code",
   "execution_count": null,
   "id": "c5a0af74-ae2b-4f09-bf2d-017d29f589e1",
   "metadata": {},
   "outputs": [],
   "source": [
    "res_list = []\n",
    "# Beautifulsoup 활용\n",
    "for article in article_urls:\n",
    "    driver.get(article)\n",
    "    # article도 switch_to.frame이 필수\n",
    "    driver.switch_to.frame('cafe_main')\n",
    "    soup = bs(driver.page_source, 'html.parser')\n",
    "    # 게시글에서 제목 추출\n",
    "    title = soup.select('div.tit-box span.b')[0].get_text()\n",
    "    # 내용을 하나의 텍스트로 만든다. (띄어쓰기 단위)\n",
    "    content_tags = soup.select('#tbody')[0].select('p')\n",
    "    content = ' '.join([ tags.get_text() for tags in content_tags ])\n",
    "    # dict형태로 만들어 결과 list에 저장\n",
    "    res_list.append({'title' : title, 'content' : content})\n",
    "    # time.sleep 작업도 필요하다.\n",
    "# 결과 데이터프레임화\n",
    "cafe_df = pd.DataFrame(res_list)\n",
    "# csv파일로 추출\n",
    "cafe_df.to_csv('cafe_crawling.csv', index=False)"
   ]
  },
  {
   "cell_type": "code",
   "execution_count": null,
   "id": "2bffd775-a8cf-4dab-b793-3e353e0de836",
   "metadata": {},
   "outputs": [],
   "source": []
  },
  {
   "cell_type": "code",
   "execution_count": null,
   "id": "d300680a-cbcd-4a5b-b7f8-06f2cf45ee51",
   "metadata": {},
   "outputs": [],
   "source": []
  },
  {
   "cell_type": "code",
   "execution_count": null,
   "id": "4bae0cd1-3f33-403e-aae0-878162a70c69",
   "metadata": {},
   "outputs": [],
   "source": []
  }
 ],
 "metadata": {
  "kernelspec": {
   "display_name": "Python 3 (ipykernel)",
   "language": "python",
   "name": "python3"
  },
  "language_info": {
   "codemirror_mode": {
    "name": "ipython",
    "version": 3
   },
   "file_extension": ".py",
   "mimetype": "text/x-python",
   "name": "python",
   "nbconvert_exporter": "python",
   "pygments_lexer": "ipython3",
   "version": "3.8.8"
  }
 },
 "nbformat": 4,
 "nbformat_minor": 5
}
