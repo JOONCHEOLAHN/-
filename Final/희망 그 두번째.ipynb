{
 "cells": [
  {
   "cell_type": "code",
   "execution_count": 1,
   "id": "ca35c4ce-cfe8-43f9-97c5-a5a007850863",
   "metadata": {},
   "outputs": [],
   "source": [
    "import time\n",
    "import pandas as pd\n",
    "import os\n",
    "# import pymysql\n",
    "import re\n",
    "from selenium import webdriver # pip install selenium\n",
    "from bs4 import BeautifulSoup as bs"
   ]
  },
  {
   "cell_type": "code",
   "execution_count": 11,
   "id": "0d8128f7-8dd7-4eda-9d67-a69d08163406",
   "metadata": {},
   "outputs": [
    {
     "data": {
      "text/plain": [
       "3       564473\n",
       "4       564463\n",
       "5       564437\n",
       "6       564351\n",
       "7       564344\n",
       "         ...  \n",
       "4998    123946\n",
       "4999    123911\n",
       "5000    123907\n",
       "5001    123906\n",
       "5002    123896\n",
       "Name: 번호, Length: 5000, dtype: object"
      ]
     },
     "execution_count": 11,
     "metadata": {},
     "output_type": "execute_result"
    }
   ],
   "source": [
    "df = pd.read_csv(\"./dataset/dataset/INFJ & ENFJ.csv\")\n",
    "df = df[\"번호\"][3:5003]\n",
    "# df[\"주소\"] = df[\"주소\"][3:\n",
    "df"
   ]
  },
  {
   "cell_type": "code",
   "execution_count": null,
   "id": "ce7a98b5-6bd5-42d6-a966-cd4019aff6ba",
   "metadata": {},
   "outputs": [],
   "source": []
  },
  {
   "cell_type": "code",
   "execution_count": null,
   "id": "8ee77e88-cba3-4799-98f8-833afd722d2d",
   "metadata": {},
   "outputs": [],
   "source": []
  },
  {
   "cell_type": "code",
   "execution_count": null,
   "id": "8cf3cbd2-9c5b-4342-83cb-536cfafd6acc",
   "metadata": {},
   "outputs": [],
   "source": []
  },
  {
   "cell_type": "code",
   "execution_count": null,
   "id": "86e008eb-484f-4fc9-b91b-d13562d30e68",
   "metadata": {},
   "outputs": [],
   "source": []
  }
 ],
 "metadata": {
  "kernelspec": {
   "display_name": "Python 3 (ipykernel)",
   "language": "python",
   "name": "python3"
  },
  "language_info": {
   "codemirror_mode": {
    "name": "ipython",
    "version": 3
   },
   "file_extension": ".py",
   "mimetype": "text/x-python",
   "name": "python",
   "nbconvert_exporter": "python",
   "pygments_lexer": "ipython3",
   "version": "3.8.8"
  }
 },
 "nbformat": 4,
 "nbformat_minor": 5
}
