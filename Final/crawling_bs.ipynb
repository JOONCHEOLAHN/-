{
 "cells": [
  {
   "cell_type": "code",
   "execution_count": 19,
   "id": "1ab80a61-a863-4951-bb82-222cd34a3a6d",
   "metadata": {},
   "outputs": [],
   "source": [
    "import urllib.request\n",
    "from bs4 import BeautifulSoup\n",
    "import urllib.parse\n",
    "from urllib.request import urlopen"
   ]
  },
  {
   "cell_type": "code",
   "execution_count": 34,
   "id": "18a04786-6743-4610-9dd5-2659ae177c50",
   "metadata": {},
   "outputs": [
    {
     "name": "stdout",
     "output_type": "stream",
     "text": [
      "[]\n"
     ]
    }
   ],
   "source": [
    "# 검색결과 블로그 제목 다 가져오기\n",
    "\n",
    "\n",
    "# import urlib.request\n",
    "# from bs4 import BeautifulSoup\n",
    "\n",
    "url = 'https://cafe.naver.com/mbticafe?iframe_url_utf8=%2FArticleRead.nhn%253Fclubid%3D11856775%2526page%3D1%2526menuid%3D18%2526boardtype%3DL%2526articleid%3D564294%2526referrerAllArticles%3Dfalse'\n",
    "html = urllib.request.urlopen(url).read()\n",
    "soup = BeautifulSoup(html, 'html.parser')\n",
    "\n",
    "\n",
    "\n",
    "title = soup.select(\"#main-area > div:nth-of-type(6) > table > tbody > tr:nth-of-type(1) > td.td_article > div.board-list > div > a\")\n",
    "# print(title)\n",
    "# print(soup)\n",
    "print(title)\n",
    "# href , title(제목) 만 가져오고 나머지 버리기\n",
    "\n",
    "# for i in title :\n",
    "#         print(i.attrs['title'])\n",
    "#         print(i.attrs['href'])"
   ]
  },
  {
   "cell_type": "code",
   "execution_count": null,
   "id": "9c13eebe-43c5-46f8-a11d-02e13d8216eb",
   "metadata": {},
   "outputs": [],
   "source": [
    "# baseurl = 중복되는 부분만 남겨놓기\n",
    "baseurl = 'https://search.naver.com/search.naver?where=nexearch&sm=top_hty&fbm=0&ie=utf8&query='\n",
    "plusurl = input('검색어를 입력하세요')\n",
    "# 우리가 검색하면 바뀌어서 나오는 애들\n",
    "\n",
    "url = baseurl + plusurl\n",
    "\n",
    "# 이렇게 하면 한글입력이 자동으로 python어로 바뀌지않기때문에 에러가 난다(영어는 상관x)\n",
    "# import urllib.parse\n",
    "\n",
    "urllib.parse.quote_plus(plusurl)"
   ]
  },
  {
   "cell_type": "code",
   "execution_count": null,
   "id": "4d3cde26-8047-4034-bda8-a5a0e46614b5",
   "metadata": {},
   "outputs": [],
   "source": []
  },
  {
   "cell_type": "code",
   "execution_count": null,
   "id": "a11489b3-f436-4268-85be-d42eaed64718",
   "metadata": {},
   "outputs": [],
   "source": []
  },
  {
   "cell_type": "code",
   "execution_count": null,
   "id": "01f06ce9-4092-4d93-ae90-46750c2adc6c",
   "metadata": {},
   "outputs": [],
   "source": []
  },
  {
   "cell_type": "code",
   "execution_count": null,
   "id": "2031317d-9416-4dd6-931e-ee915c478e21",
   "metadata": {},
   "outputs": [],
   "source": []
  }
 ],
 "metadata": {
  "kernelspec": {
   "display_name": "Python 3 (ipykernel)",
   "language": "python",
   "name": "python3"
  },
  "language_info": {
   "codemirror_mode": {
    "name": "ipython",
    "version": 3
   },
   "file_extension": ".py",
   "mimetype": "text/x-python",
   "name": "python",
   "nbconvert_exporter": "python",
   "pygments_lexer": "ipython3",
   "version": "3.8.8"
  }
 },
 "nbformat": 4,
 "nbformat_minor": 5
}
