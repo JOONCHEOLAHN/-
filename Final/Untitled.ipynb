{
 "cells": [
  {
   "cell_type": "markdown",
   "id": "18f69ec3-48c9-4e20-811d-82f52bb0f30d",
   "metadata": {},
   "source": [
    "## 크롤링에 필요한 라이브러리"
   ]
  },
  {
   "cell_type": "code",
   "execution_count": 1,
   "id": "94884990-1af0-4b7e-b37d-3c645e0ee714",
   "metadata": {},
   "outputs": [],
   "source": [
    "import pandas as pd\n",
    "from selenium import webdriver\n",
    "from selenium.webdriver.common.keys import Keys\n",
    "import time\n",
    "from bs4 import BeautifulSoup as bs\n",
    "import math\n",
    "\n",
    "import warnings\n",
    "warnings.filterwarnings(action='ignore')\n",
    "\n",
    "# pip install selenium\n",
    "# pip install openpyxl"
   ]
  },
  {
   "cell_type": "markdown",
   "id": "60b13a02-a42a-4622-b766-b6488ecb97c8",
   "metadata": {},
   "source": [
    "## 크롬 웹브라우저 실행"
   ]
  },
  {
   "cell_type": "code",
   "execution_count": 2,
   "id": "9f5e6f4a-8669-4c07-9716-efeb94cd5d02",
   "metadata": {},
   "outputs": [],
   "source": [
    "driver = webdriver.Chrome(\"C:/AI/chromedriver_win32/chromedriver.exe\")"
   ]
  },
  {
   "cell_type": "markdown",
   "id": "59a32ba3-ba6a-4538-bc27-0a98f2bcc56a",
   "metadata": {},
   "source": [
    "## 사이트 주소"
   ]
  },
  {
   "cell_type": "code",
   "execution_count": 3,
   "id": "0c98acf6-1f81-4925-a5fb-718ef681d1e1",
   "metadata": {},
   "outputs": [],
   "source": [
    "driver.get(\"https://cafe.naver.com/mbticafe\")\n",
    "time.sleep(2)"
   ]
  },
  {
   "cell_type": "code",
   "execution_count": null,
   "id": "55ae747f-07ca-45b0-8fc4-74881fb75f75",
   "metadata": {},
   "outputs": [],
   "source": []
  },
  {
   "cell_type": "markdown",
   "id": "ab830b63-8be8-48da-961b-61b86d7a6586",
   "metadata": {},
   "source": [
    "## 게시판 클릭  --> 게시판 루프 돌리기"
   ]
  },
  {
   "cell_type": "code",
   "execution_count": 4,
   "id": "a1b39c56-aae4-4a00-97bb-166a685acd32",
   "metadata": {},
   "outputs": [],
   "source": [
    "keyword='INFP ♧ ENFP'\n",
    "driver.find_element_by_link_text(keyword).click()"
   ]
  },
  {
   "cell_type": "markdown",
   "id": "c70d588e-292f-4e8f-b8dc-d291b3838602",
   "metadata": {},
   "source": [
    "## 게시판 프레임 접근"
   ]
  },
  {
   "cell_type": "code",
   "execution_count": 5,
   "id": "6284a5c2-5295-4b1c-8907-c8c11094ed08",
   "metadata": {},
   "outputs": [],
   "source": [
    "driver.switch_to.frame(\"cafe_main\")"
   ]
  },
  {
   "cell_type": "markdown",
   "id": "6e91e82c-a883-4995-9b49-da0e6ee552b0",
   "metadata": {},
   "source": [
    "## 게시글 50개씩"
   ]
  },
  {
   "cell_type": "code",
   "execution_count": 6,
   "id": "60c120c6-9224-4d5a-9ecc-005b8c7dc724",
   "metadata": {},
   "outputs": [],
   "source": [
    "driver.find_element_by_css_selector(\"#listSizeSelectDiv\").click()\n",
    "driver.find_element_by_xpath(\"/html/body/div[1]/div/div[2]/div/div[3]/ul/li[7]\").click()"
   ]
  },
  {
   "cell_type": "code",
   "execution_count": 7,
   "id": "181ac081-bea5-402e-978e-4420fd6602e7",
   "metadata": {},
   "outputs": [],
   "source": [
    "#crawling_list = []\n",
    "no_app = []\n",
    "title_app = []\n",
    "nick_app  = []\n",
    "like_app  = []\n",
    "# crawling_no = int(input('클롤링 할 글 개수를 입력 :'))"
   ]
  },
  {
   "cell_type": "code",
   "execution_count": 8,
   "id": "dfb31f99-44a5-4a53-aa5f-63c141e20d3d",
   "metadata": {},
   "outputs": [
    {
     "name": "stdout",
     "output_type": "stream",
     "text": [
      "글 103개 크롤링 완료. \n",
      "크롤링 종료.\n"
     ]
    }
   ],
   "source": [
    "# 크롤링 해야 할 페이지 계산\n",
    "crawling_page = int(3)\n",
    "\n",
    "try: \n",
    "    for page in range(1,crawling_page):\n",
    "        # 페이지 클릭\n",
    "        driver.find_element_by_link_text(str(page)).click()\n",
    "        time.sleep(1)\n",
    "        # 글 번호 수집\n",
    "        no = [i.text for i in driver.find_elements_by_css_selector('.td_article')]\n",
    "        no_split = [ni.split()[0] for ni in no]\n",
    "        # 글 제목 수집\n",
    "        title = [i.text for i in driver.find_elements_by_css_selector('.article')]\n",
    "        # 작성자 수집\n",
    "        nick = [i.text for i in driver.find_elements_by_css_selector('.p-nick .m-tcol-c')]\n",
    "        # 좋아요 수집\n",
    "        like = [i.text for i in driver.find_elements_by_css_selector('.td_likes')]\n",
    "        # 수집 데이터 append\n",
    "        no_app.append(no_split)\n",
    "        title_app.append(title)\n",
    "        nick_app.append(nick)\n",
    "        like_app.append(like)\n",
    "        # 10페이지 마다 프린트 & 다음 페이지로 클릭\n",
    "        if str(page)[-1] == '0':\n",
    "            print(int(page), 'page 크롤링 완료')\n",
    "            driver.find_element_by_link_text('다음').click()\n",
    "# 더이상 페이지가 존재하지 않을 시\n",
    "except:\n",
    "    print('더이상 페이지가 존재하지 않음')\n",
    "\n",
    "# driver.close()\n",
    "    \n",
    "# 리스트안 리스트 분해\n",
    "no_list = sum(no_app, [])\n",
    "title_list = sum(title_app, [])\n",
    "nick_list = sum(nick_app, [])\n",
    "like_list = sum(like_app, [])\n",
    "\n",
    "# 판다스화\n",
    "df = pd.DataFrame({'번호':no_list,\n",
    "                   '제목':title_list,\n",
    "                   '작성자':nick_list,\n",
    "                   '좋아요':like_list})\n",
    "# 필독, 공지 삭제\n",
    "df = df.drop(df[df['번호'] == '필독'].index)\n",
    "df = df.drop(df[df['번호'] == '공지'].index)\n",
    "df = df.reset_index(drop=True)\n",
    "\n",
    "print('글 ', len(df), '개 크롤링 완료. \\n크롤링 종료.', sep='')\n",
    "\n",
    "df\n",
    "\n",
    "# 저장\n",
    "df.to_excel('crawler_naver cafe_게시판 {}.xlsx'.format(keyword))"
   ]
  },
  {
   "cell_type": "code",
   "execution_count": 9,
   "id": "e62b23b6-eb27-4cad-9c6e-c0e07fdbadfc",
   "metadata": {},
   "outputs": [
    {
     "data": {
      "text/html": [
       "<div>\n",
       "<style scoped>\n",
       "    .dataframe tbody tr th:only-of-type {\n",
       "        vertical-align: middle;\n",
       "    }\n",
       "\n",
       "    .dataframe tbody tr th {\n",
       "        vertical-align: top;\n",
       "    }\n",
       "\n",
       "    .dataframe thead th {\n",
       "        text-align: right;\n",
       "    }\n",
       "</style>\n",
       "<table border=\"1\" class=\"dataframe\">\n",
       "  <thead>\n",
       "    <tr style=\"text-align: right;\">\n",
       "      <th></th>\n",
       "      <th>번호</th>\n",
       "      <th>제목</th>\n",
       "      <th>작성자</th>\n",
       "      <th>좋아요</th>\n",
       "    </tr>\n",
       "  </thead>\n",
       "  <tbody>\n",
       "    <tr>\n",
       "      <th>0</th>\n",
       "      <td>추천</td>\n",
       "      <td>인프피분들 주목!! 눈물참는법</td>\n",
       "      <td>소라게 ENFJ</td>\n",
       "      <td>10</td>\n",
       "    </tr>\n",
       "    <tr>\n",
       "      <th>1</th>\n",
       "      <td>추천</td>\n",
       "      <td>인프피 절친에게 물어봤더니 진짜래요</td>\n",
       "      <td>에취ENFJ 2w1</td>\n",
       "      <td>9</td>\n",
       "    </tr>\n",
       "    <tr>\n",
       "      <th>2</th>\n",
       "      <td>추천</td>\n",
       "      <td>인생에서 가장 중요한 건 사람을 잘 만나야 한다고 생각한다.</td>\n",
       "      <td>레오나</td>\n",
       "      <td>8</td>\n",
       "    </tr>\n",
       "    <tr>\n",
       "      <th>3</th>\n",
       "      <td>563736</td>\n",
       "      <td>엔프피도 집돌이일수 있나용?</td>\n",
       "      <td>잇쁘비</td>\n",
       "      <td>1</td>\n",
       "    </tr>\n",
       "    <tr>\n",
       "      <th>4</th>\n",
       "      <td>563708</td>\n",
       "      <td>INFP 여러분 존재해줘서 고맙습니다.</td>\n",
       "      <td>산타오빠</td>\n",
       "      <td>6</td>\n",
       "    </tr>\n",
       "    <tr>\n",
       "      <th>...</th>\n",
       "      <td>...</td>\n",
       "      <td>...</td>\n",
       "      <td>...</td>\n",
       "      <td>...</td>\n",
       "    </tr>\n",
       "    <tr>\n",
       "      <th>98</th>\n",
       "      <td>561728</td>\n",
       "      <td>Enfx와 infp</td>\n",
       "      <td>Infp다요</td>\n",
       "      <td>0</td>\n",
       "    </tr>\n",
       "    <tr>\n",
       "      <th>99</th>\n",
       "      <td>561716</td>\n",
       "      <td>엔프피남의 오늘의 감성</td>\n",
       "      <td>ENFP 3w2 남</td>\n",
       "      <td>0</td>\n",
       "    </tr>\n",
       "    <tr>\n",
       "      <th>100</th>\n",
       "      <td>561715</td>\n",
       "      <td>심심 엔픕 질문받아요~~</td>\n",
       "      <td>gmini</td>\n",
       "      <td>0</td>\n",
       "    </tr>\n",
       "    <tr>\n",
       "      <th>101</th>\n",
       "      <td>561660</td>\n",
       "      <td>인프피 질문받아요</td>\n",
       "      <td>인프피ㅣㅣ</td>\n",
       "      <td>0</td>\n",
       "    </tr>\n",
       "    <tr>\n",
       "      <th>102</th>\n",
       "      <td>561655</td>\n",
       "      <td>INFP) 쓸데없는 연민에 불탔던 썰...</td>\n",
       "      <td>산세배리아</td>\n",
       "      <td>2</td>\n",
       "    </tr>\n",
       "  </tbody>\n",
       "</table>\n",
       "<p>103 rows × 4 columns</p>\n",
       "</div>"
      ],
      "text/plain": [
       "         번호                                 제목         작성자 좋아요\n",
       "0        추천                   인프피분들 주목!! 눈물참는법    소라게 ENFJ  10\n",
       "1        추천                인프피 절친에게 물어봤더니 진짜래요  에취ENFJ 2w1   9\n",
       "2        추천  인생에서 가장 중요한 건 사람을 잘 만나야 한다고 생각한다.         레오나   8\n",
       "3    563736                    엔프피도 집돌이일수 있나용?         잇쁘비   1\n",
       "4    563708              INFP 여러분 존재해줘서 고맙습니다.        산타오빠   6\n",
       "..      ...                                ...         ...  ..\n",
       "98   561728                         Enfx와 infp      Infp다요   0\n",
       "99   561716                       엔프피남의 오늘의 감성  ENFP 3w2 남   0\n",
       "100  561715                      심심 엔픕 질문받아요~~       gmini   0\n",
       "101  561660                          인프피 질문받아요       인프피ㅣㅣ   0\n",
       "102  561655            INFP) 쓸데없는 연민에 불탔던 썰...       산세배리아   2\n",
       "\n",
       "[103 rows x 4 columns]"
      ]
     },
     "execution_count": 9,
     "metadata": {},
     "output_type": "execute_result"
    }
   ],
   "source": [
    "df"
   ]
  },
  {
   "cell_type": "code",
   "execution_count": 10,
   "id": "244fdee0-c3fd-4172-b929-d197bafe497d",
   "metadata": {},
   "outputs": [],
   "source": [
    "# 저장\n",
    "df.to_excel('crawler_naver cafe_게시판 {}.xlsx'.format(keyword))"
   ]
  },
  {
   "cell_type": "markdown",
   "id": "80e772ba-bc4a-40d8-a23c-a6933c3d599e",
   "metadata": {},
   "source": [
    "## 게시글 하나 클릭"
   ]
  },
  {
   "cell_type": "code",
   "execution_count": 11,
   "id": "1f501235-444f-45b1-a94d-35fa327be8d9",
   "metadata": {
    "tags": []
   },
   "outputs": [],
   "source": [
    "# article_list = driver.find_element_by_xpath('//*[@id=\"upperArticleList\"]/table/tbody/tr[14]/td[1]/div[2]/div/a[1]').click()\n",
    "# article_urls = [ i.get_attribute('href') for i in article_list ]"
   ]
  },
  {
   "cell_type": "code",
   "execution_count": 12,
   "id": "e7a60a4e-146e-491f-abf8-f5962a418400",
   "metadata": {},
   "outputs": [
    {
     "ename": "AttributeError",
     "evalue": "'list' object has no attribute 'click'",
     "output_type": "error",
     "traceback": [
      "\u001b[1;31m---------------------------------------------------------------------------\u001b[0m",
      "\u001b[1;31mAttributeError\u001b[0m                            Traceback (most recent call last)",
      "\u001b[1;32m~\\AppData\\Local\\Temp/ipykernel_14040/654686159.py\u001b[0m in \u001b[0;36m<module>\u001b[1;34m\u001b[0m\n\u001b[1;32m----> 1\u001b[1;33m \u001b[0marticle_list\u001b[0m \u001b[1;33m=\u001b[0m \u001b[0mdriver\u001b[0m\u001b[1;33m.\u001b[0m\u001b[0mfind_elements_by_css_selector\u001b[0m\u001b[1;33m(\u001b[0m\u001b[1;34m'div.board-list > div > a.article'\u001b[0m\u001b[1;33m)\u001b[0m\u001b[1;33m.\u001b[0m\u001b[0mclick\u001b[0m\u001b[1;33m(\u001b[0m\u001b[1;33m)\u001b[0m\u001b[1;33m\u001b[0m\u001b[1;33m\u001b[0m\u001b[0m\n\u001b[0m\u001b[0;32m      2\u001b[0m \u001b[1;31m# article_urls = [ i.get_attribute('href') for i in article_list ]\u001b[0m\u001b[1;33m\u001b[0m\u001b[1;33m\u001b[0m\u001b[1;33m\u001b[0m\u001b[0m\n",
      "\u001b[1;31mAttributeError\u001b[0m: 'list' object has no attribute 'click'"
     ]
    }
   ],
   "source": [
    "article_list = driver.find_elements_by_css_selector('div.board-list > div > a.article').click()\n",
    "# article_urls = [ i.get_attribute('href') for i in article_list ]"
   ]
  },
  {
   "cell_type": "code",
   "execution_count": null,
   "id": "74efb4da-d9ae-404b-8146-1e1824ca9606",
   "metadata": {},
   "outputs": [],
   "source": [
    "#upperArticleList > table > tbody > tr:nth-child(14) > td.td_article > div.board-list > div > a.article\n",
    "#main-area > div:nth-child(6) > table > tbody > tr:nth-child(1) > td.td_article > div.board-list > div > a.article"
   ]
  },
  {
   "cell_type": "code",
   "execution_count": null,
   "id": "7058a06f-f4b8-461a-8f70-3627214a5dda",
   "metadata": {},
   "outputs": [],
   "source": []
  },
  {
   "cell_type": "code",
   "execution_count": null,
   "id": "30e5afd8-9000-45e2-a018-2985ab3f04d0",
   "metadata": {},
   "outputs": [],
   "source": []
  },
  {
   "cell_type": "markdown",
   "id": "ac1ef817-cc30-43fe-ae39-eade37bbd14a",
   "metadata": {},
   "source": [
    "----"
   ]
  },
  {
   "cell_type": "code",
   "execution_count": null,
   "id": "cdef5197-a9eb-4145-a123-5085000426c7",
   "metadata": {},
   "outputs": [],
   "source": [
    "# 요기까지"
   ]
  },
  {
   "cell_type": "markdown",
   "id": "858a6d8b-d146-4f55-96d7-a5198b8402c8",
   "metadata": {},
   "source": [
    "----"
   ]
  },
  {
   "cell_type": "code",
   "execution_count": null,
   "id": "f16a144f-1f3c-43d4-b931-fb6373352189",
   "metadata": {},
   "outputs": [],
   "source": [
    "#upperArticleList > table > tbody > tr:nth-child(14) > td.td_article > div.board-list > div > a.article"
   ]
  },
  {
   "cell_type": "code",
   "execution_count": null,
   "id": "f14a9ee3-9e4a-48a0-b166-df630647fbe8",
   "metadata": {},
   "outputs": [],
   "source": [
    "res_list = []\n",
    "# Beautifulsoup 활용\n",
    "for article in article_urls:\n",
    "    driver.get(article)\n",
    "    # article도 switch_to.frame이 필수\n",
    "    driver.switch_to.frame('cafe_main')\n",
    "    soup = bs(driver.page_source, 'html.parser')\n",
    "    # 게시글에서 제목 추출\n",
    "    title = soup.select('div.tit-box span.b')[0].get_text()\n",
    "    # 내용을 하나의 텍스트로 만든다. (띄어쓰기 단위)\n",
    "    content_tags = soup.select('#tbody')[0].select('p')\n",
    "    content = ' '.join([ tags.get_text() for tags in content_tags ])\n",
    "    # dict형태로 만들어 결과 list에 저장\n",
    "    res_list.append({'title' : title, 'content' : content})\n",
    "    # time.sleep 작업도 필요하다.\n",
    "# 결과 데이터프레임화\n",
    "cafe_df = pd.DataFrame(res_list)\n",
    "# csv파일로 추출\n",
    "cafe_df.to_csv('cafe_crawling.csv', index=False)"
   ]
  },
  {
   "cell_type": "code",
   "execution_count": null,
   "id": "0b484bd8-433a-474e-b87c-e1113a99a6a9",
   "metadata": {},
   "outputs": [],
   "source": [
    "html = driver.page_source\n",
    "soup = BeautifulSoup(html, 'html.parser')\n",
    "list = soup.select('ul.lst_site > li')"
   ]
  },
  {
   "cell_type": "code",
   "execution_count": null,
   "id": "6d369741-9667-4fc3-8d67-75cfe9abc95e",
   "metadata": {},
   "outputs": [],
   "source": []
  },
  {
   "cell_type": "code",
   "execution_count": null,
   "id": "1adc681e-2ca4-494e-844a-993fc171a04a",
   "metadata": {},
   "outputs": [],
   "source": []
  },
  {
   "cell_type": "code",
   "execution_count": null,
   "id": "dbcec894-89ca-4248-87ed-c135a329aa10",
   "metadata": {},
   "outputs": [],
   "source": []
  },
  {
   "cell_type": "code",
   "execution_count": null,
   "id": "5cec3558-b5d1-455c-8399-afeaf84aff41",
   "metadata": {},
   "outputs": [],
   "source": []
  },
  {
   "cell_type": "code",
   "execution_count": null,
   "id": "7e93bf80-2f4a-4581-9da6-f8155f90dce9",
   "metadata": {},
   "outputs": [],
   "source": []
  },
  {
   "cell_type": "markdown",
   "id": "6c97cbd8-dad5-48ba-81cc-0997a1348bab",
   "metadata": {},
   "source": [
    "## 네이버 로그인"
   ]
  },
  {
   "cell_type": "code",
   "execution_count": null,
   "id": "b3fc4b3e-1d4d-484f-a0ad-0722f00c22c5",
   "metadata": {},
   "outputs": [],
   "source": [
    "# # 로그인 전용 화면\n",
    "# driver.get('https://nid.naver.com/nidlogin.login')\n",
    "# # 아이디와 비밀번호 입력\n",
    "# driver.find_element_by_name('id').send_keys('아이디')\n",
    "# driver.find_element_by_name('pw').send_keys('비밀번호')\n",
    "# # 로그인 버튼 클릭\n",
    "# driver.find_element_by_css_selector('#frmNIDLogin > fieldset > input').click()"
   ]
  },
  {
   "cell_type": "code",
   "execution_count": null,
   "id": "85d265e7-84be-4688-b21e-f8cb7cecfed7",
   "metadata": {},
   "outputs": [],
   "source": []
  },
  {
   "cell_type": "code",
   "execution_count": null,
   "id": "e649ed6b-7dee-4cdb-a12f-d182ed5f455f",
   "metadata": {},
   "outputs": [],
   "source": [
    "# href 속성을 찾아 url을 리스트로 저장한다.\n",
    "    ## 각 카페마다 태그의 형식이 다를 수 있으니 확인해야 한다. ( 태그.클래스명 )\n",
    "    article_list = driver.find_elements_by_css_selector('span.aaa > a.m-tcol-c')\n",
    "    article_urls = [ i.get_attribute('href') for i in article_list ]"
   ]
  },
  {
   "cell_type": "markdown",
   "id": "ec87d145-0bb2-4c51-9734-afe3a96e56c2",
   "metadata": {},
   "source": [
    "## 게시글로 접근"
   ]
  },
  {
   "cell_type": "code",
   "execution_count": null,
   "id": "c5a0af74-ae2b-4f09-bf2d-017d29f589e1",
   "metadata": {},
   "outputs": [],
   "source": [
    "res_list = []\n",
    "# Beautifulsoup 활용\n",
    "for article in article_urls:\n",
    "    driver.get(article)\n",
    "    # article도 switch_to.frame이 필수\n",
    "    driver.switch_to.frame('cafe_main')\n",
    "    soup = bs(driver.page_source, 'html.parser')\n",
    "    # 게시글에서 제목 추출\n",
    "    title = soup.select('div.tit-box span.b')[0].get_text()\n",
    "    # 내용을 하나의 텍스트로 만든다. (띄어쓰기 단위)\n",
    "    content_tags = soup.select('#tbody')[0].select('p')\n",
    "    content = ' '.join([ tags.get_text() for tags in content_tags ])\n",
    "    # dict형태로 만들어 결과 list에 저장\n",
    "    res_list.append({'title' : title, 'content' : content})\n",
    "    # time.sleep 작업도 필요하다.\n",
    "# 결과 데이터프레임화\n",
    "cafe_df = pd.DataFrame(res_list)\n",
    "# csv파일로 추출\n",
    "cafe_df.to_csv('cafe_crawling.csv', index=False)"
   ]
  },
  {
   "cell_type": "code",
   "execution_count": null,
   "id": "2bffd775-a8cf-4dab-b793-3e353e0de836",
   "metadata": {},
   "outputs": [],
   "source": []
  },
  {
   "cell_type": "markdown",
   "id": "ae7fe257-a07c-4276-8d03-30571e146702",
   "metadata": {},
   "source": [
    "## 카페 게시글 내용 수집"
   ]
  },
  {
   "cell_type": "code",
   "execution_count": null,
   "id": "4bae0cd1-3f33-403e-aae0-878162a70c69",
   "metadata": {},
   "outputs": [],
   "source": [
    "import pickle\n",
    "from contextlib import suppress\n",
    "\n",
    "for keyword in cafe.get(\"keywords\"):\n",
    "    df = pickle.load(open(save_path+\"cafe_address_\"+cafe.get(\"name\")+\"_\"+keyword+\".pkl\", 'rb'))\n",
    "\n",
    "    i=0\n",
    "    contents_list = []   # 내용\n",
    "    reply_list = []      # 댓글\n",
    "    error_list = []      # 에러난 게시글\n",
    "\n",
    "    while True:\n",
    "\n",
    "        ### 수집 링크로 이동\n",
    "        url = \"https://cafe.naver.com\"+df.loc[i,'link']\n",
    "        idx_no = df.loc[i,'idx_no']    # 인덱스 번호\n",
    "        driver.get(url)\n",
    "        time.sleep( random.randint(2,5) )\n",
    "        try:\n",
    "            driver.switch_to.frame('cafe_main')\n",
    "            time.sleep( random.randint(2,5) )\n",
    "            r = driver.page_source\n",
    "            page_soup = BeautifulSoup(r, \"html.parser\")\n",
    "            content = page_soup.find('div', class_='ArticleContentBox')  \n",
    "\n",
    "            ### 게시글 수집\n",
    "            temp_dict={}\n",
    "            temp_dict['idx_no'] = idx_no\n",
    "            temp_dict['title'] = \"\"\n",
    "            with suppress(AttributeError):   # 제목 없는 게시글\n",
    "                temp_dict['title'] = content.find('h3',class_='title_text').text.strip()\n",
    "            temp_dict['content'] = content.find(\"div\", class_=\"article_viewer\").text.strip()\n",
    "            temp_dict['nick'] = content.find('div',class_='profile_info').find('a',class_='nickname').text.strip()\n",
    "            temp_dict['date'] = content.find('div',class_='article_info').find('span',class_='date').text.strip()\n",
    "            temp_dict['view'] = \"\"\n",
    "            with suppress(AttributeError):\n",
    "                temp_dict['view'] = content.find('div',class_='article_info').find('span',class_='count').text.strip()\n",
    "            contents_list.append(temp_dict)\n",
    "\n",
    "            ### 댓글 수집\n",
    "            if content.find(\"div\", class_=\"ReplyBox\") is not None:   # 댓글 기능이 아예 없음  \n",
    "                comment_num = content.find(\"div\", class_=\"ReplyBox\").find(\"a\",class_=\"button_comment\").find(\"strong\").text\n",
    "                if comment_num!='0':   # 댓글이 없음\n",
    "                    comment = content.find(\"div\", class_=\"CommentBox\").find(\"ul\",class_=\"comment_list\").select(\"li\")\n",
    "                    \n",
    "                    ### 댓글 구분\n",
    "                    com_n=0    # 댓글\n",
    "                    com_nn=0   # 대댓글\n",
    "                    \n",
    "                    for n in range(len(comment)):\n",
    "\n",
    "                        if comment[n].get('class')==['CommentItem']:    # 댓글\n",
    "                            com_n+=1; com_nn=0;\n",
    "                            com_thread = str(com_n)+\"-\"+str(com_nn)\n",
    "                            com_nn=1\n",
    "                        elif comment[n].get('class')==['CommentItem', 'CommentItem--reply']:    # 대댓글\n",
    "                            com_thread = str(com_n)+\"-\"+str(com_nn)\n",
    "                            com_nn+=1\n",
    "\n",
    "                        ### 댓글 내용 수집    \n",
    "                        if comment[n].text.strip() != '삭제된 댓글입니다.':\n",
    "                            com_nick = comment[n].find(\"a\",class_=\"comment_nickname\").text.strip()\n",
    "                            com_date = comment[n].find(\"span\",class_=\"comment_info_date\").text.strip()\n",
    "                            com_reply = comment[n].find(\"div\",class_=\"comment_text_box\").text.strip()\n",
    "                            reply_list.append({'idx_no':idx_no, 'nick':com_nick, 'date':com_date, 'reply':com_reply, \"thread\":com_thread})\n",
    "            i+=1\n",
    "\n",
    "        except:\n",
    "            i+=1\n",
    "            ### 게시글을 볼 등급이 안됨\n",
    "            if page_soup.find('strong', class_='emph') is not None:\n",
    "                error_list.append({\"error\" :  page_soup.find('strong', class_='emph').text+\"등급 필요\"\n",
    "                                   , \"url\" : url})\n",
    "                pass\n",
    "            ### 에러 따로 확인\n",
    "            else:\n",
    "                error_list.append({\"error\" : \"에러 확인 필요\"\n",
    "                                   , \"url\" : url})\n",
    "                pass\n",
    "\n",
    "        ### 수집한 글 갯수만큼 반복\n",
    "        if i == len(df):\n",
    "            contents_df = pd.DataFrame(contents_list)\n",
    "            contents_df.to_pickle(\"../../data/cafe/cafe_contents_\"+cafe.get(\"name\")+\"_\"+keyword+\".pkl\")\n",
    "            reply_df = pd.DataFrame(reply_list)\n",
    "            reply_df.to_pickle(\"../../data/cafe/cafe_replies_\"+cafe.get(\"name\")+\"_\"+keyword+\".pkl\")\n",
    "            print(\"(현재시각) \"+str(datetime.datetime.now())+\": done\")\n",
    "            break\n",
    "    \n",
    "# 크롬 종료 \n",
    "driver.quit()"
   ]
  }
 ],
 "metadata": {
  "kernelspec": {
   "display_name": "Python 3 (ipykernel)",
   "language": "python",
   "name": "python3"
  },
  "language_info": {
   "codemirror_mode": {
    "name": "ipython",
    "version": 3
   },
   "file_extension": ".py",
   "mimetype": "text/x-python",
   "name": "python",
   "nbconvert_exporter": "python",
   "pygments_lexer": "ipython3",
   "version": "3.8.8"
  }
 },
 "nbformat": 4,
 "nbformat_minor": 5
}
